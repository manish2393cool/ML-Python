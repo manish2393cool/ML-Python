{
  "nbformat": 4,
  "nbformat_minor": 0,
  "metadata": {
    "colab": {
      "name": "2. Forecasting and Predicting.ipynb",
      "provenance": [],
      "collapsed_sections": [],
      "include_colab_link": true
    },
    "kernelspec": {
      "name": "python3",
      "display_name": "Python 3"
    },
    "accelerator": "GPU"
  },
  "cells": [
    {
      "cell_type": "markdown",
      "metadata": {
        "id": "view-in-github",
        "colab_type": "text"
      },
      "source": [
        "<a href=\"https://colab.research.google.com/github/manish2393cool/ML-Python/blob/master/2_Forecasting_and_Predicting.ipynb\" target=\"_parent\"><img src=\"https://colab.research.google.com/assets/colab-badge.svg\" alt=\"Open In Colab\"/></a>"
      ]
    },
    {
      "cell_type": "code",
      "metadata": {
        "id": "VWmtbgMJf7Pc",
        "colab_type": "code",
        "outputId": "4741cd60-2f7a-4461-b2ee-9a1bbf75978e",
        "colab": {
          "base_uri": "https://localhost:8080/",
          "height": 411
        }
      },
      "source": [
        "!pip install Quandl"
      ],
      "execution_count": 1,
      "outputs": [
        {
          "output_type": "stream",
          "text": [
            "Requirement already satisfied: Quandl in /usr/local/lib/python3.6/dist-packages (3.4.8)\n",
            "Requirement already satisfied: pyOpenSSL in /usr/local/lib/python3.6/dist-packages (from Quandl) (19.0.0)\n",
            "Requirement already satisfied: six in /usr/local/lib/python3.6/dist-packages (from Quandl) (1.12.0)\n",
            "Requirement already satisfied: inflection>=0.3.1 in /usr/local/lib/python3.6/dist-packages (from Quandl) (0.3.1)\n",
            "Requirement already satisfied: more-itertools<=5.0.0 in /usr/local/lib/python3.6/dist-packages (from Quandl) (5.0.0)\n",
            "Requirement already satisfied: ndg-httpsclient in /usr/local/lib/python3.6/dist-packages (from Quandl) (0.5.1)\n",
            "Requirement already satisfied: pandas>=0.14 in /usr/local/lib/python3.6/dist-packages (from Quandl) (0.24.2)\n",
            "Requirement already satisfied: pyasn1 in /usr/local/lib/python3.6/dist-packages (from Quandl) (0.4.7)\n",
            "Requirement already satisfied: requests>=2.7.0 in /usr/local/lib/python3.6/dist-packages (from Quandl) (2.21.0)\n",
            "Requirement already satisfied: python-dateutil in /usr/local/lib/python3.6/dist-packages (from Quandl) (2.5.3)\n",
            "Requirement already satisfied: numpy>=1.8 in /usr/local/lib/python3.6/dist-packages (from Quandl) (1.16.5)\n",
            "Requirement already satisfied: cryptography>=2.3 in /usr/local/lib/python3.6/dist-packages (from pyOpenSSL->Quandl) (2.7)\n",
            "Requirement already satisfied: pytz>=2011k in /usr/local/lib/python3.6/dist-packages (from pandas>=0.14->Quandl) (2018.9)\n",
            "Requirement already satisfied: chardet<3.1.0,>=3.0.2 in /usr/local/lib/python3.6/dist-packages (from requests>=2.7.0->Quandl) (3.0.4)\n",
            "Requirement already satisfied: urllib3<1.25,>=1.21.1 in /usr/local/lib/python3.6/dist-packages (from requests>=2.7.0->Quandl) (1.24.3)\n",
            "Requirement already satisfied: certifi>=2017.4.17 in /usr/local/lib/python3.6/dist-packages (from requests>=2.7.0->Quandl) (2019.6.16)\n",
            "Requirement already satisfied: idna<2.9,>=2.5 in /usr/local/lib/python3.6/dist-packages (from requests>=2.7.0->Quandl) (2.8)\n",
            "Requirement already satisfied: cffi!=1.11.3,>=1.8 in /usr/local/lib/python3.6/dist-packages (from cryptography>=2.3->pyOpenSSL->Quandl) (1.12.3)\n",
            "Requirement already satisfied: asn1crypto>=0.21.0 in /usr/local/lib/python3.6/dist-packages (from cryptography>=2.3->pyOpenSSL->Quandl) (0.24.0)\n",
            "Requirement already satisfied: pycparser in /usr/local/lib/python3.6/dist-packages (from cffi!=1.11.3,>=1.8->cryptography>=2.3->pyOpenSSL->Quandl) (2.19)\n"
          ],
          "name": "stdout"
        }
      ]
    },
    {
      "cell_type": "code",
      "metadata": {
        "id": "9rs_d4eBfqKD",
        "colab_type": "code",
        "colab": {}
      },
      "source": [
        "import pandas as pd\n",
        "import quandl as q\n",
        "import numpy as np"
      ],
      "execution_count": 0,
      "outputs": []
    },
    {
      "cell_type": "code",
      "metadata": {
        "id": "EGYk0uB3i7xH",
        "colab_type": "code",
        "colab": {}
      },
      "source": [
        "import math"
      ],
      "execution_count": 0,
      "outputs": []
    },
    {
      "cell_type": "code",
      "metadata": {
        "id": "nJLFROBhf3GK",
        "colab_type": "code",
        "colab": {}
      },
      "source": [
        "q.ApiConfig.api_key = 'HyXNvMhpxYjiXjSuWZtu'\n",
        "df = q.get('WIKI/GOOGL')"
      ],
      "execution_count": 0,
      "outputs": []
    },
    {
      "cell_type": "code",
      "metadata": {
        "id": "lelk7piKgf2E",
        "colab_type": "code",
        "colab": {}
      },
      "source": [
        "df = df[['Adj. Open','Adj. High','Adj. Low','Adj. Close','Adj. Volume']]\n",
        "df['HL_PCT'] = (df['Adj. High'] - df['Adj. Close']) / df['Adj. Close'] *100.0\n",
        "df['PCT_Change'] = (df['Adj. Close'] - df['Adj. Open']) / df['Adj. Open'] *100.0\n",
        "\n",
        "df = df[['Adj. Close', 'HL_PCT','PCT_Change', 'Adj. Volume']]"
      ],
      "execution_count": 0,
      "outputs": []
    },
    {
      "cell_type": "code",
      "metadata": {
        "id": "trUsBrBUhdC5",
        "colab_type": "code",
        "outputId": "93e10c41-76e2-468d-8c3b-d9c4dffb9d68",
        "colab": {
          "base_uri": "https://localhost:8080/",
          "height": 394
        }
      },
      "source": [
        "df.head(10)"
      ],
      "execution_count": 6,
      "outputs": [
        {
          "output_type": "execute_result",
          "data": {
            "text/html": [
              "<div>\n",
              "<style scoped>\n",
              "    .dataframe tbody tr th:only-of-type {\n",
              "        vertical-align: middle;\n",
              "    }\n",
              "\n",
              "    .dataframe tbody tr th {\n",
              "        vertical-align: top;\n",
              "    }\n",
              "\n",
              "    .dataframe thead th {\n",
              "        text-align: right;\n",
              "    }\n",
              "</style>\n",
              "<table border=\"1\" class=\"dataframe\">\n",
              "  <thead>\n",
              "    <tr style=\"text-align: right;\">\n",
              "      <th></th>\n",
              "      <th>Adj. Close</th>\n",
              "      <th>HL_PCT</th>\n",
              "      <th>PCT_Change</th>\n",
              "      <th>Adj. Volume</th>\n",
              "    </tr>\n",
              "    <tr>\n",
              "      <th>Date</th>\n",
              "      <th></th>\n",
              "      <th></th>\n",
              "      <th></th>\n",
              "      <th></th>\n",
              "    </tr>\n",
              "  </thead>\n",
              "  <tbody>\n",
              "    <tr>\n",
              "      <th>2004-08-19</th>\n",
              "      <td>50.322842</td>\n",
              "      <td>3.712563</td>\n",
              "      <td>0.324968</td>\n",
              "      <td>44659000.0</td>\n",
              "    </tr>\n",
              "    <tr>\n",
              "      <th>2004-08-20</th>\n",
              "      <td>54.322689</td>\n",
              "      <td>0.710922</td>\n",
              "      <td>7.227007</td>\n",
              "      <td>22834300.0</td>\n",
              "    </tr>\n",
              "    <tr>\n",
              "      <th>2004-08-23</th>\n",
              "      <td>54.869377</td>\n",
              "      <td>3.729433</td>\n",
              "      <td>-1.227880</td>\n",
              "      <td>18256100.0</td>\n",
              "    </tr>\n",
              "    <tr>\n",
              "      <th>2004-08-24</th>\n",
              "      <td>52.597363</td>\n",
              "      <td>6.417469</td>\n",
              "      <td>-5.726357</td>\n",
              "      <td>15247300.0</td>\n",
              "    </tr>\n",
              "    <tr>\n",
              "      <th>2004-08-25</th>\n",
              "      <td>53.164113</td>\n",
              "      <td>1.886792</td>\n",
              "      <td>1.183658</td>\n",
              "      <td>9188600.0</td>\n",
              "    </tr>\n",
              "    <tr>\n",
              "      <th>2004-08-26</th>\n",
              "      <td>54.122070</td>\n",
              "      <td>0.037068</td>\n",
              "      <td>2.820391</td>\n",
              "      <td>7094800.0</td>\n",
              "    </tr>\n",
              "    <tr>\n",
              "      <th>2004-08-27</th>\n",
              "      <td>53.239345</td>\n",
              "      <td>2.326896</td>\n",
              "      <td>-1.803885</td>\n",
              "      <td>6211700.0</td>\n",
              "    </tr>\n",
              "    <tr>\n",
              "      <th>2004-08-30</th>\n",
              "      <td>51.162935</td>\n",
              "      <td>3.411430</td>\n",
              "      <td>-3.106003</td>\n",
              "      <td>5196700.0</td>\n",
              "    </tr>\n",
              "    <tr>\n",
              "      <th>2004-08-31</th>\n",
              "      <td>51.343492</td>\n",
              "      <td>1.308977</td>\n",
              "      <td>0.048866</td>\n",
              "      <td>4917800.0</td>\n",
              "    </tr>\n",
              "    <tr>\n",
              "      <th>2004-09-01</th>\n",
              "      <td>50.280210</td>\n",
              "      <td>2.713217</td>\n",
              "      <td>-2.385589</td>\n",
              "      <td>9138200.0</td>\n",
              "    </tr>\n",
              "  </tbody>\n",
              "</table>\n",
              "</div>"
            ],
            "text/plain": [
              "            Adj. Close    HL_PCT  PCT_Change  Adj. Volume\n",
              "Date                                                     \n",
              "2004-08-19   50.322842  3.712563    0.324968   44659000.0\n",
              "2004-08-20   54.322689  0.710922    7.227007   22834300.0\n",
              "2004-08-23   54.869377  3.729433   -1.227880   18256100.0\n",
              "2004-08-24   52.597363  6.417469   -5.726357   15247300.0\n",
              "2004-08-25   53.164113  1.886792    1.183658    9188600.0\n",
              "2004-08-26   54.122070  0.037068    2.820391    7094800.0\n",
              "2004-08-27   53.239345  2.326896   -1.803885    6211700.0\n",
              "2004-08-30   51.162935  3.411430   -3.106003    5196700.0\n",
              "2004-08-31   51.343492  1.308977    0.048866    4917800.0\n",
              "2004-09-01   50.280210  2.713217   -2.385589    9138200.0"
            ]
          },
          "metadata": {
            "tags": []
          },
          "execution_count": 6
        }
      ]
    },
    {
      "cell_type": "code",
      "metadata": {
        "id": "EX1DpBYNhoKe",
        "colab_type": "code",
        "colab": {}
      },
      "source": [
        "# can change depending on the forecast column you want\n",
        "forecast_col = 'Adj. Close'\n",
        "# adjust outlier\n",
        "df.fillna(-99999, inplace = True)"
      ],
      "execution_count": 0,
      "outputs": []
    },
    {
      "cell_type": "code",
      "metadata": {
        "id": "NOXEXl8cjZRe",
        "colab_type": "code",
        "colab": {}
      },
      "source": [
        "from sklearn import preprocessing, svm\n",
        "from sklearn.model_selection import cross_val_score\n",
        "from sklearn import metrics\n",
        "from sklearn.model_selection import ShuffleSplit\n",
        "from sklearn.pipeline import make_pipeline\n",
        "from sklearn.model_selection import cross_validate\n",
        "from sklearn.metrics import recall_score\n",
        "from sklearn.metrics.scorer import make_scorer\n",
        "# train test split\n",
        "from sklearn.model_selection import train_test_split\n",
        "\n",
        "# cross_validation to handle bias and spread the data points\n",
        "from sklearn.linear_model import LinearRegression\n",
        "\n",
        "#now find x and y"
      ],
      "execution_count": 0,
      "outputs": []
    },
    {
      "cell_type": "markdown",
      "metadata": {
        "id": "ZNwsaobrEsxm",
        "colab_type": "text"
      },
      "source": [
        "Forecast for next 1%"
      ]
    },
    {
      "cell_type": "code",
      "metadata": {
        "id": "hxsGxBm5AEP2",
        "colab_type": "code",
        "outputId": "dbe2511f-f4c4-4760-a4fd-2a81bea54f9f",
        "colab": {
          "base_uri": "https://localhost:8080/",
          "height": 36
        }
      },
      "source": [
        "# want to forecast 1% in future\n",
        "forecast_out = int(math.ceil(0.05*len(df)))\n",
        "# attributes which effect next days\n",
        "df['label'] = df[forecast_col].shift(-forecast_out)\n",
        "print(\"Days in advance: \", forecast_out)"
      ],
      "execution_count": 9,
      "outputs": [
        {
          "output_type": "stream",
          "text": [
            "Days in advance:  172\n"
          ],
          "name": "stdout"
        }
      ]
    },
    {
      "cell_type": "code",
      "metadata": {
        "id": "8UwPpg2R9WZZ",
        "colab_type": "code",
        "colab": {}
      },
      "source": [
        "x = np.array(df.drop(['label'],1))\n",
        "x = preprocessing.scale(x)\n",
        "x = x[:-forecast_out]\n",
        "x_lately = x[-forecast_out:]\n",
        "\n",
        "df.dropna(inplace=True)\n",
        "\n",
        "# scaling is together also scale new values but adds processing time\n",
        "# can be skipped if high speed trading is going on\n",
        "y = np.array(df['label'])\n",
        "\n",
        "x_train, x_test, y_train, y_test = train_test_split(x, y, test_size = 0.2)"
      ],
      "execution_count": 0,
      "outputs": []
    },
    {
      "cell_type": "code",
      "metadata": {
        "id": "KA1zBU8j_UM9",
        "colab_type": "code",
        "outputId": "84fde51e-9caf-4f18-959f-ea225d9cc002",
        "colab": {
          "base_uri": "https://localhost:8080/",
          "height": 36
        }
      },
      "source": [
        "clf = LinearRegression()\n",
        "clf.fit(x_train, y_train)\n",
        "accuracy = clf.score(x_test, y_test)*100\n",
        "print(accuracy)"
      ],
      "execution_count": 11,
      "outputs": [
        {
          "output_type": "stream",
          "text": [
            "92.73420456469105\n"
          ],
          "name": "stdout"
        }
      ]
    },
    {
      "cell_type": "code",
      "metadata": {
        "id": "P4QBPY_iFP0k",
        "colab_type": "code",
        "outputId": "6adca1d2-fea5-4f53-ff85-2c02959ae334",
        "colab": {
          "base_uri": "https://localhost:8080/",
          "height": 708
        }
      },
      "source": [
        "# sincefor x_lately we have not predicted anything\n",
        "forecast_set = clf.predict(x_lately)\n",
        "print( forecast_set)\n",
        "print(\"Accuracy:\",accuracy)\n",
        "print(\"for next how many days prediction is done: \",forecast_out)"
      ],
      "execution_count": 12,
      "outputs": [
        {
          "output_type": "stream",
          "text": [
            "[ 875.01659742  864.97941935  845.04051819  870.10849671  874.60965315\n",
            "  881.88901161  870.9436949   880.47698867  880.7974356   873.86964745\n",
            "  875.06643514  882.94521448  885.85324227  870.59038121  857.3624087\n",
            "  858.12051583  873.29707176  870.96542481  888.0026578   891.87992775\n",
            "  907.85188608  906.01195613  914.79656092  917.31597914  914.67433497\n",
            "  907.72431927  911.25982159  913.83921151  910.31642565  907.66851865\n",
            "  905.84643201  908.62860933  902.16975113  900.33004985  888.68866166\n",
            "  906.3838833   905.76458114  911.62364392  925.69679516  927.25139221\n",
            "  925.88664137  930.04334427  929.60720178  931.44407528  927.22951949\n",
            "  928.97550785  924.47112094  927.9776918   946.75816171  951.94335212\n",
            "  961.82678457  959.59547485  947.53621773  923.11949262  919.27210306\n",
            "  913.71380599  917.84996988  919.44222906  920.78635517  929.61089421\n",
            "  930.30019846  930.15244092  935.72507397  940.32567052  941.32002737\n",
            "  938.48244464  943.88029691  948.71531854  951.79093672  954.21684768\n",
            "  953.41604926  949.7783877   952.3355084   946.77957425  960.0400396\n",
            "  952.30048977  951.42341042  949.41581439  954.04657964  956.68847217\n",
            "  961.4804527   965.02564732  968.93798817  970.22105396  972.74857201\n",
            "  974.66895957  976.95009676  972.11841424  953.26934811  952.58932967\n",
            "  940.21500808  935.98226722  940.36751217  942.3314948   952.70048788\n",
            "  951.77802361  949.94663044  960.31563123  955.37792033  951.73927818\n",
            "  947.32263677  943.66595192  943.62351313  941.44018051  943.21437064\n",
            "  941.67313333  959.01284412  957.18584971  959.80082101  963.83958763\n",
            "  962.39876613  985.0284403   995.90767369  995.85341066  998.30737621\n",
            " 1035.08823364 1044.69448335 1049.56028026 1062.28788861 1068.93877472\n",
            " 1063.77958498 1073.59888253 1070.73816382 1068.63453432 1070.25900896\n",
            " 1068.96249304 1073.96963581 1079.5938536  1054.96666434 1064.42544663\n",
            " 1068.90812663 1079.27468705 1086.30349809 1094.00415714 1110.62102738\n",
            " 1111.43701155 1114.67008389 1104.85528324 1105.92738901 1114.69601734\n",
            " 1123.62549895 1115.64101492 1120.75845452 1123.38076394 1086.23605069\n",
            " 1076.27124522 1086.33836062 1083.69131036 1074.98689393 1072.5325648\n",
            " 1091.84734106 1085.0118663  1095.50760593 1093.13842757 1103.8695998\n",
            " 1088.69322181 1061.8224168  1075.86442448 1049.65388923 1041.01523646\n",
            " 1029.7976127  1044.21031908 1039.28412679 1053.91557463 1065.03213543\n",
            " 1067.33526879 1083.28634652 1084.72768641 1093.30000207 1092.56613681\n",
            " 1105.38027922 1111.01372291]\n",
            "Accuracy: 92.73420456469105\n",
            "for next how many days prediction is done:  172\n"
          ],
          "name": "stdout"
        }
      ]
    },
    {
      "cell_type": "code",
      "metadata": {
        "id": "3jEF_3s3FPsO",
        "colab_type": "code",
        "colab": {}
      },
      "source": [
        "import datetime\n",
        "import matplotlib.pyplot as plt\n",
        "from matplotlib import style\n",
        "style.use('ggplot')"
      ],
      "execution_count": 0,
      "outputs": []
    },
    {
      "cell_type": "code",
      "metadata": {
        "id": "Isn8rVZXF7kR",
        "colab_type": "code",
        "outputId": "e7a65008-9bd4-4578-a335-7b9dabb5ee5c",
        "colab": {
          "base_uri": "https://localhost:8080/",
          "height": 276
        }
      },
      "source": [
        "df['Forecast'] = np.nan\n",
        "last_date = df.iloc[-1].name\n",
        "last_unix = last_date.timestamp()\n",
        "one_day = 86400\n",
        "next_unix = last_unix + one_day\n",
        "\n",
        "#now populate dataframe with the new dates and forecast values\n",
        "\n",
        "for i in forecast_set:\n",
        "  next_date = datetime.datetime.fromtimestamp(next_unix)\n",
        "  next_unix += one_day\n",
        "  df.loc[next_date] = [np.nan for _ in range(len(df.columns)-1)] + [i]\n",
        "\n",
        "\n",
        "# here date is taken as a index which can be checked using df.head()\n",
        "# df.head()\n",
        "\n",
        "df['Adj. Close'].plot()\n",
        "df['Forecast'].plot()\n",
        "plt.legend(loc=4)\n",
        "plt.xlabel('Date')\n",
        "plt.ylabel('price')\n",
        "plt.show()"
      ],
      "execution_count": 14,
      "outputs": [
        {
          "output_type": "display_data",
          "data": {
            "image/png": "[encoded data removed]",
            "text/plain": [
              "<Figure size 432x288 with 1 Axes>"
            ]
          },
          "metadata": {
            "tags": []
          }
        }
      ]
    },
    {
      "cell_type": "markdown",
      "metadata": {
        "colab_type": "text",
        "id": "Xe9U_ZQWRr7s"
      },
      "source": [
        "PLOTTING THE GRAPH"
      ]
    },
    {
      "cell_type": "code",
      "metadata": {
        "id": "tzUIHPoIKhqT",
        "colab_type": "code",
        "colab": {
          "base_uri": "https://localhost:8080/",
          "height": 284
        },
        "outputId": "c44e123b-eb66-43e6-c4ed-2a03db5d0562"
      },
      "source": [
        "df['Adj. Close'].iloc[-800:df['Forecast'].shape[0]].plot()\n",
        "df['Forecast'].iloc[-800:df['Forecast'].shape[0]].plot()\n",
        "plt.legend(loc=4)\n",
        "plt.xlabel('Date')\n",
        "plt.ylabel('price')\n",
        "plt.show()"
      ],
      "execution_count": 19,
      "outputs": [
        {
          "output_type": "display_data",
          "data": {
            "image/png": "[encoded data removed]",
            "text/plain": [
              "<Figure size 432x288 with 1 Axes>"
            ]
          },
          "metadata": {
            "tags": []
          }
        }
      ]
    },
    {
      "cell_type": "markdown",
      "metadata": {
        "id": "OxTm3tqIBGtu",
        "colab_type": "text"
      },
      "source": [
        "As many jobs as you want"
      ]
    },
    {
      "cell_type": "code",
      "metadata": {
        "colab_type": "code",
        "outputId": "c0df7c61-2167-4862-ccf1-1d954bc9f375",
        "id": "SD2WNhLCRqxx",
        "colab": {
          "base_uri": "https://localhost:8080/",
          "height": 36
        }
      },
      "source": [
        "clf = LinearRegression(n_jobs=50)\n",
        "clf.fit(x_train, y_train)\n",
        "accuracy = round( clf.score(x_test, y_test)*100, 3 )\n",
        "print(accuracy)"
      ],
      "execution_count": 0,
      "outputs": [
        {
          "output_type": "stream",
          "text": [
            "92.734\n"
          ],
          "name": "stdout"
        }
      ]
    },
    {
      "cell_type": "code",
      "metadata": {
        "id": "cLjh52YxA25n",
        "colab_type": "code",
        "colab": {}
      },
      "source": [
        ""
      ],
      "execution_count": 0,
      "outputs": []
    }
  ]
}