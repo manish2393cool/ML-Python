{
  "nbformat": 4,
  "nbformat_minor": 0,
  "metadata": {
    "colab": {
      "name": "2. Forecasting and Predicting.ipynb",
      "provenance": [],
      "collapsed_sections": [],
      "include_colab_link": true
    },
    "kernelspec": {
      "name": "python3",
      "display_name": "Python 3"
    },
    "accelerator": "GPU"
  },
  "cells": [
    {
      "cell_type": "markdown",
      "metadata": {
        "id": "view-in-github",
        "colab_type": "text"
      },
      "source": [
        "<a href=\"https://colab.research.google.com/github/manish2393cool/ML-Python/blob/master/2_Forecasting_and_Predicting_Revised.ipynb\" target=\"_parent\"><img src=\"https://colab.research.google.com/assets/colab-badge.svg\" alt=\"Open In Colab\"/></a>"
      ]
    },
    {
      "cell_type": "code",
      "metadata": {
        "id": "VWmtbgMJf7Pc",
        "colab_type": "code",
        "outputId": "89b868be-1d22-4a3e-becb-35256c4dd074",
        "colab": {
          "base_uri": "https://localhost:8080/",
          "height": 411
        }
      },
      "source": [
        "!pip install Quandl"
      ],
      "execution_count": 3,
      "outputs": [
        {
          "output_type": "stream",
          "text": [
            "Requirement already satisfied: Quandl in /usr/local/lib/python3.6/dist-packages (3.4.8)\n",
            "Requirement already satisfied: inflection>=0.3.1 in /usr/local/lib/python3.6/dist-packages (from Quandl) (0.3.1)\n",
            "Requirement already satisfied: python-dateutil in /usr/local/lib/python3.6/dist-packages (from Quandl) (2.5.3)\n",
            "Requirement already satisfied: ndg-httpsclient in /usr/local/lib/python3.6/dist-packages (from Quandl) (0.5.1)\n",
            "Requirement already satisfied: requests>=2.7.0 in /usr/local/lib/python3.6/dist-packages (from Quandl) (2.21.0)\n",
            "Requirement already satisfied: pyasn1 in /usr/local/lib/python3.6/dist-packages (from Quandl) (0.4.7)\n",
            "Requirement already satisfied: more-itertools<=5.0.0 in /usr/local/lib/python3.6/dist-packages (from Quandl) (5.0.0)\n",
            "Requirement already satisfied: six in /usr/local/lib/python3.6/dist-packages (from Quandl) (1.12.0)\n",
            "Requirement already satisfied: pyOpenSSL in /usr/local/lib/python3.6/dist-packages (from Quandl) (19.0.0)\n",
            "Requirement already satisfied: numpy>=1.8 in /usr/local/lib/python3.6/dist-packages (from Quandl) (1.16.5)\n",
            "Requirement already satisfied: pandas>=0.14 in /usr/local/lib/python3.6/dist-packages (from Quandl) (0.24.2)\n",
            "Requirement already satisfied: certifi>=2017.4.17 in /usr/local/lib/python3.6/dist-packages (from requests>=2.7.0->Quandl) (2019.6.16)\n",
            "Requirement already satisfied: idna<2.9,>=2.5 in /usr/local/lib/python3.6/dist-packages (from requests>=2.7.0->Quandl) (2.8)\n",
            "Requirement already satisfied: urllib3<1.25,>=1.21.1 in /usr/local/lib/python3.6/dist-packages (from requests>=2.7.0->Quandl) (1.24.3)\n",
            "Requirement already satisfied: chardet<3.1.0,>=3.0.2 in /usr/local/lib/python3.6/dist-packages (from requests>=2.7.0->Quandl) (3.0.4)\n",
            "Requirement already satisfied: cryptography>=2.3 in /usr/local/lib/python3.6/dist-packages (from pyOpenSSL->Quandl) (2.7)\n",
            "Requirement already satisfied: pytz>=2011k in /usr/local/lib/python3.6/dist-packages (from pandas>=0.14->Quandl) (2018.9)\n",
            "Requirement already satisfied: asn1crypto>=0.21.0 in /usr/local/lib/python3.6/dist-packages (from cryptography>=2.3->pyOpenSSL->Quandl) (0.24.0)\n",
            "Requirement already satisfied: cffi!=1.11.3,>=1.8 in /usr/local/lib/python3.6/dist-packages (from cryptography>=2.3->pyOpenSSL->Quandl) (1.12.3)\n",
            "Requirement already satisfied: pycparser in /usr/local/lib/python3.6/dist-packages (from cffi!=1.11.3,>=1.8->cryptography>=2.3->pyOpenSSL->Quandl) (2.19)\n"
          ],
          "name": "stdout"
        }
      ]
    },
    {
      "cell_type": "code",
      "metadata": {
        "id": "9rs_d4eBfqKD",
        "colab_type": "code",
        "colab": {}
      },
      "source": [
        "import pandas as pd\n",
        "import quandl as q\n",
        "import numpy as np"
      ],
      "execution_count": 0,
      "outputs": []
    },
    {
      "cell_type": "code",
      "metadata": {
        "id": "EGYk0uB3i7xH",
        "colab_type": "code",
        "colab": {}
      },
      "source": [
        "import math"
      ],
      "execution_count": 0,
      "outputs": []
    },
    {
      "cell_type": "code",
      "metadata": {
        "id": "nJLFROBhf3GK",
        "colab_type": "code",
        "colab": {}
      },
      "source": [
        "q.ApiConfig.api_key = 'HyXNvMhpxYjiXjSuWZtu'\n",
        "df = q.get('WIKI/GOOGL')"
      ],
      "execution_count": 0,
      "outputs": []
    },
    {
      "cell_type": "code",
      "metadata": {
        "id": "lelk7piKgf2E",
        "colab_type": "code",
        "colab": {}
      },
      "source": [
        "df = df[['Adj. Open','Adj. High','Adj. Low','Adj. Close','Adj. Volume']]\n",
        "df['HL_PCT'] = (df['Adj. High'] - df['Adj. Close']) / df['Adj. Close'] *100.0\n",
        "df['PCT_Change'] = (df['Adj. Close'] - df['Adj. Open']) / df['Adj. Open'] *100.0\n",
        "\n",
        "df = df[['Adj. Close', 'HL_PCT','PCT_Change', 'Adj. Volume']]"
      ],
      "execution_count": 0,
      "outputs": []
    },
    {
      "cell_type": "code",
      "metadata": {
        "id": "trUsBrBUhdC5",
        "colab_type": "code",
        "outputId": "65fdc090-2b91-4d28-d45d-bed32f975ac8",
        "colab": {
          "base_uri": "https://localhost:8080/",
          "height": 394
        }
      },
      "source": [
        "df.head(10)"
      ],
      "execution_count": 7,
      "outputs": [
        {
          "output_type": "execute_result",
          "data": {
            "text/html": [
              "<div>\n",
              "<style scoped>\n",
              "    .dataframe tbody tr th:only-of-type {\n",
              "        vertical-align: middle;\n",
              "    }\n",
              "\n",
              "    .dataframe tbody tr th {\n",
              "        vertical-align: top;\n",
              "    }\n",
              "\n",
              "    .dataframe thead th {\n",
              "        text-align: right;\n",
              "    }\n",
              "</style>\n",
              "<table border=\"1\" class=\"dataframe\">\n",
              "  <thead>\n",
              "    <tr style=\"text-align: right;\">\n",
              "      <th></th>\n",
              "      <th>Adj. Close</th>\n",
              "      <th>HL_PCT</th>\n",
              "      <th>PCT_Change</th>\n",
              "      <th>Adj. Volume</th>\n",
              "    </tr>\n",
              "    <tr>\n",
              "      <th>Date</th>\n",
              "      <th></th>\n",
              "      <th></th>\n",
              "      <th></th>\n",
              "      <th></th>\n",
              "    </tr>\n",
              "  </thead>\n",
              "  <tbody>\n",
              "    <tr>\n",
              "      <th>2004-08-19</th>\n",
              "      <td>50.322842</td>\n",
              "      <td>3.712563</td>\n",
              "      <td>0.324968</td>\n",
              "      <td>44659000.0</td>\n",
              "    </tr>\n",
              "    <tr>\n",
              "      <th>2004-08-20</th>\n",
              "      <td>54.322689</td>\n",
              "      <td>0.710922</td>\n",
              "      <td>7.227007</td>\n",
              "      <td>22834300.0</td>\n",
              "    </tr>\n",
              "    <tr>\n",
              "      <th>2004-08-23</th>\n",
              "      <td>54.869377</td>\n",
              "      <td>3.729433</td>\n",
              "      <td>-1.227880</td>\n",
              "      <td>18256100.0</td>\n",
              "    </tr>\n",
              "    <tr>\n",
              "      <th>2004-08-24</th>\n",
              "      <td>52.597363</td>\n",
              "      <td>6.417469</td>\n",
              "      <td>-5.726357</td>\n",
              "      <td>15247300.0</td>\n",
              "    </tr>\n",
              "    <tr>\n",
              "      <th>2004-08-25</th>\n",
              "      <td>53.164113</td>\n",
              "      <td>1.886792</td>\n",
              "      <td>1.183658</td>\n",
              "      <td>9188600.0</td>\n",
              "    </tr>\n",
              "    <tr>\n",
              "      <th>2004-08-26</th>\n",
              "      <td>54.122070</td>\n",
              "      <td>0.037068</td>\n",
              "      <td>2.820391</td>\n",
              "      <td>7094800.0</td>\n",
              "    </tr>\n",
              "    <tr>\n",
              "      <th>2004-08-27</th>\n",
              "      <td>53.239345</td>\n",
              "      <td>2.326896</td>\n",
              "      <td>-1.803885</td>\n",
              "      <td>6211700.0</td>\n",
              "    </tr>\n",
              "    <tr>\n",
              "      <th>2004-08-30</th>\n",
              "      <td>51.162935</td>\n",
              "      <td>3.411430</td>\n",
              "      <td>-3.106003</td>\n",
              "      <td>5196700.0</td>\n",
              "    </tr>\n",
              "    <tr>\n",
              "      <th>2004-08-31</th>\n",
              "      <td>51.343492</td>\n",
              "      <td>1.308977</td>\n",
              "      <td>0.048866</td>\n",
              "      <td>4917800.0</td>\n",
              "    </tr>\n",
              "    <tr>\n",
              "      <th>2004-09-01</th>\n",
              "      <td>50.280210</td>\n",
              "      <td>2.713217</td>\n",
              "      <td>-2.385589</td>\n",
              "      <td>9138200.0</td>\n",
              "    </tr>\n",
              "  </tbody>\n",
              "</table>\n",
              "</div>"
            ],
            "text/plain": [
              "            Adj. Close    HL_PCT  PCT_Change  Adj. Volume\n",
              "Date                                                     \n",
              "2004-08-19   50.322842  3.712563    0.324968   44659000.0\n",
              "2004-08-20   54.322689  0.710922    7.227007   22834300.0\n",
              "2004-08-23   54.869377  3.729433   -1.227880   18256100.0\n",
              "2004-08-24   52.597363  6.417469   -5.726357   15247300.0\n",
              "2004-08-25   53.164113  1.886792    1.183658    9188600.0\n",
              "2004-08-26   54.122070  0.037068    2.820391    7094800.0\n",
              "2004-08-27   53.239345  2.326896   -1.803885    6211700.0\n",
              "2004-08-30   51.162935  3.411430   -3.106003    5196700.0\n",
              "2004-08-31   51.343492  1.308977    0.048866    4917800.0\n",
              "2004-09-01   50.280210  2.713217   -2.385589    9138200.0"
            ]
          },
          "metadata": {
            "tags": []
          },
          "execution_count": 7
        }
      ]
    },
    {
      "cell_type": "code",
      "metadata": {
        "id": "EX1DpBYNhoKe",
        "colab_type": "code",
        "colab": {}
      },
      "source": [
        "# can change depending on the forecast column you want\n",
        "forecast_col = 'Adj. Close'\n",
        "# adjust outlier\n",
        "df.fillna(-99999, inplace = True)"
      ],
      "execution_count": 0,
      "outputs": []
    },
    {
      "cell_type": "code",
      "metadata": {
        "id": "NOXEXl8cjZRe",
        "colab_type": "code",
        "colab": {}
      },
      "source": [
        "from sklearn import preprocessing, svm\n",
        "from sklearn.model_selection import cross_val_score\n",
        "from sklearn import metrics\n",
        "from sklearn.model_selection import ShuffleSplit\n",
        "from sklearn.pipeline import make_pipeline\n",
        "from sklearn.model_selection import cross_validate\n",
        "from sklearn.metrics import recall_score\n",
        "from sklearn.metrics.scorer import make_scorer\n",
        "# train test split\n",
        "from sklearn.model_selection import train_test_split\n",
        "\n",
        "# cross_validation to handle bias and spread the data points\n",
        "from sklearn.linear_model import LinearRegression\n",
        "\n",
        "#now find x and y"
      ],
      "execution_count": 0,
      "outputs": []
    },
    {
      "cell_type": "markdown",
      "metadata": {
        "id": "ZNwsaobrEsxm",
        "colab_type": "text"
      },
      "source": [
        "Forecast for next 1%"
      ]
    },
    {
      "cell_type": "code",
      "metadata": {
        "id": "hxsGxBm5AEP2",
        "colab_type": "code",
        "outputId": "130aa182-2b77-43bd-b404-e06281ce6efb",
        "colab": {
          "base_uri": "https://localhost:8080/",
          "height": 36
        }
      },
      "source": [
        "# want to forecast 1% in future\n",
        "forecast_out = int(math.ceil(0.1*len(df)))\n",
        "# attributes which effect next days\n",
        "df['label'] = df[forecast_col].shift(-forecast_out)\n",
        "print(\"Days in advance: \", forecast_out)"
      ],
      "execution_count": 10,
      "outputs": [
        {
          "output_type": "stream",
          "text": [
            "Days in advance:  343\n"
          ],
          "name": "stdout"
        }
      ]
    },
    {
      "cell_type": "code",
      "metadata": {
        "id": "8UwPpg2R9WZZ",
        "colab_type": "code",
        "colab": {}
      },
      "source": [
        "x = np.array(df.drop(['label'],1))\n",
        "x = preprocessing.scale(x)\n",
        "x_lately = x[-forecast_out:]\n",
        "x = x[:-forecast_out]\n",
        "\n",
        "df.dropna(inplace=True)\n",
        "\n",
        "# scaling is together also scale new values but adds processing time\n",
        "# can be skipped if high speed trading is going on\n",
        "y = np.array(df['label'])\n",
        "\n",
        "x_train, x_test, y_train, y_test = train_test_split(x, y, test_size = 0.2)"
      ],
      "execution_count": 0,
      "outputs": []
    },
    {
      "cell_type": "code",
      "metadata": {
        "id": "KA1zBU8j_UM9",
        "colab_type": "code",
        "outputId": "d4d08edc-5e4f-4ab4-a9f2-655ecb4832d5",
        "colab": {
          "base_uri": "https://localhost:8080/",
          "height": 36
        }
      },
      "source": [
        "clf = LinearRegression()\n",
        "clf.fit(x_train, y_train)\n",
        "accuracy = clf.score(x_test, y_test)*100\n",
        "print(accuracy)"
      ],
      "execution_count": 12,
      "outputs": [
        {
          "output_type": "stream",
          "text": [
            "88.46099948175066\n"
          ],
          "name": "stdout"
        }
      ]
    },
    {
      "cell_type": "code",
      "metadata": {
        "id": "P4QBPY_iFP0k",
        "colab_type": "code",
        "outputId": "5ae61e66-9171-452c-9cb4-46a6ef0400f2",
        "colab": {
          "base_uri": "https://localhost:8080/",
          "height": 1000
        }
      },
      "source": [
        "# sincefor x_lately we have not predicted anything\n",
        "forecast_set = clf.predict(x_lately)\n",
        "print( forecast_set)\n",
        "print(\"Accuracy:\",accuracy)\n",
        "print(\"for next how many days prediction is done: \",forecast_out)"
      ],
      "execution_count": 13,
      "outputs": [
        {
          "output_type": "stream",
          "text": [
            "[ 963.02917123  949.490177    977.79875373  974.54613555  985.23195311\n",
            "  979.73077033  984.22777717  987.01566426  977.69705008  974.60787919\n",
            " 1001.9059523   993.3150503   978.15091817  960.77087198  962.289722\n",
            "  977.2200809   976.28779446  993.71240711  996.71625209 1014.89902289\n",
            " 1012.41250758 1028.30509006 1027.65404465 1023.78045058 1013.93029282\n",
            " 1018.92653653 1018.03198536 1013.51983091 1010.66342431 1010.62043058\n",
            " 1017.91892523 1007.97681342 1004.34872385  994.01294217 1015.11433048\n",
            " 1011.83310532 1017.0139469  1038.4778586  1034.57004935 1032.31978168\n",
            " 1035.34641572 1034.58946852 1039.36100768 1031.96185529 1032.95881899\n",
            " 1035.01693093 1031.87740354 1059.81715987 1061.28862527 1071.72616407\n",
            " 1068.10464438 1068.73686416 1032.37761101 1024.71520728 1019.95206358\n",
            " 1029.00649205 1026.88330456 1024.41416212 1038.01386918 1038.5225784\n",
            " 1034.96289222 1043.4812867  1048.87557813 1048.41633354 1047.17680666\n",
            " 1051.80189025 1057.56092331 1061.82647702 1065.14635521 1061.25667001\n",
            " 1056.13793145 1062.34947172 1055.20213012 1070.91914422 1062.35860407\n",
            " 1059.60274722 1057.4077193  1065.11698527 1067.43588289 1074.05750274\n",
            " 1074.91483255 1081.88485438 1081.51135562 1082.95913297 1086.1146662\n",
            " 1086.87731433 1082.0442216  1074.33912788 1065.11320923 1044.60801921\n",
            " 1045.94396974 1053.81819199 1053.07176973 1064.59367309 1059.46313144\n",
            " 1058.10674881 1073.74034533 1064.71970178 1067.44682701 1059.90721033\n",
            " 1051.547569   1054.74722489 1050.92444397 1052.60287413 1050.24708092\n",
            " 1074.32868033 1068.71029256 1070.5325184  1075.78989435 1072.6758445\n",
            " 1101.35037556 1113.6248437  1109.85138815 1112.04132373 1158.37566536\n",
            " 1168.10433032 1174.45395764 1188.61601512 1194.54952445 1187.50858281\n",
            " 1201.05223502 1193.36112589 1189.30887531 1194.44564729 1189.95387146\n",
            " 1199.40514664 1202.17898875 1182.69513046 1190.38389648 1194.19127578\n",
            " 1204.09478476 1211.75414301 1218.02161328 1244.38461987 1239.09882352\n",
            " 1242.29249701 1236.06297401 1233.05041547 1242.95468763 1255.51272086\n",
            " 1248.7601743  1249.6117252  1250.00693396 1224.70467253 1202.03974595\n",
            " 1213.86579744 1212.80205026 1200.83004645 1193.068798   1220.55160233\n",
            " 1215.07379216 1222.94912927 1219.32273817 1232.8264352  1223.60047245\n",
            " 1192.53847976 1202.36128106 1172.9787205  1165.37784751 1153.06344102\n",
            " 1168.52457285 1165.04022866 1180.34167601 1190.62796351 1189.29505483\n",
            " 1209.42693883 1214.79455779 1217.70232975 1221.60230319 1239.37369747\n",
            " 1239.24408306 1238.36583289 1239.98197409 1250.57219566 1208.1136873\n",
            " 1205.3473385  1192.35118249 1201.48179375 1185.01667839 1186.07746131\n",
            " 1179.33802241 1176.2844827  1179.79392982 1179.10354739 1184.0058666\n",
            " 1174.68611715 1155.97388758 1164.47581691 1170.64851653 1171.4665548\n",
            " 1182.9510155  1163.90517115 1157.53512729 1151.62321375 1179.23301295\n",
            " 1179.37206646 1172.65907467 1164.7469064  1160.74964051 1176.61054448\n",
            " 1181.3701503  1195.28378423 1188.68760288 1179.46764718 1173.63829117\n",
            " 1185.8476305  1177.50142319 1182.09149428 1179.2074307  1188.20377374\n",
            " 1175.2382468  1167.63801508 1161.85542671 1168.91571295 1186.66802052\n",
            " 1184.48029754 1181.80911827 1165.1221432  1174.08081307 1209.2069818\n",
            " 1206.52365734 1217.19630246 1210.22620391 1212.31573406 1208.80142533\n",
            " 1233.41943485 1243.88498014 1241.79327446 1235.27779615 1261.43014688\n",
            " 1257.78287984 1260.17080351 1258.18617051 1263.38163657 1264.20837808\n",
            " 1249.89542585 1252.43476866 1237.14673823 1231.23489731 1239.16723002\n",
            " 1245.21735644 1314.16701832 1292.7915422  1292.75281051 1304.29434777\n",
            " 1301.11908288 1309.91296344 1303.92075262 1310.99434642 1305.30034009\n",
            " 1301.38412131 1303.16570493 1298.27015891 1293.27055605 1312.36194663\n",
            " 1296.7373905  1290.57634263 1311.62194836 1312.55576959 1318.86883491\n",
            " 1340.29035901 1333.22044256 1301.07791486 1293.82623498 1284.18792643\n",
            " 1270.20611609 1290.18972731 1300.05316342 1307.68309013 1310.59927567\n",
            " 1312.7954688  1317.22343483 1311.03267222 1325.4488573  1338.29962321\n",
            " 1354.51751925 1345.96324618 1338.57489935 1335.88165202 1331.65319337\n",
            " 1327.18437715 1323.44614931 1319.15973516 1313.60124697 1347.26957259\n",
            " 1370.15849861 1369.75361924 1386.50620312 1391.53777526 1385.91090768\n",
            " 1384.34997898 1384.97173102 1415.3725722  1417.75068334 1417.1926824\n",
            " 1414.62768831 1423.93467411 1458.8788977  1465.76422061 1463.34064238\n",
            " 1472.16088942 1474.92550971 1483.98662217 1472.16079099 1471.7345131\n",
            " 1474.68699962 1393.95238047 1357.43059846 1375.15093914 1328.10933871\n",
            " 1283.95621017 1311.98078144 1319.80592789 1319.82324076 1345.16112356\n",
            " 1362.85304085 1374.89160693 1389.43089491 1407.90296057 1390.28664657\n",
            " 1407.67751201 1427.41708893 1401.73347828 1385.61431387 1352.18903336\n",
            " 1362.73718764 1375.59805128 1372.70749238 1397.98695586 1411.43795399\n",
            " 1452.18753017 1459.87728233 1437.39873716 1438.84447892 1441.39552028\n",
            " 1420.07506021 1375.97481177 1369.02759444 1374.57665044 1325.35767593\n",
            " 1305.16129104 1315.57356556 1283.59490664]\n",
            "Accuracy: 88.46099948175066\n",
            "for next how many days prediction is done:  343\n"
          ],
          "name": "stdout"
        }
      ]
    },
    {
      "cell_type": "code",
      "metadata": {
        "id": "3jEF_3s3FPsO",
        "colab_type": "code",
        "colab": {}
      },
      "source": [
        "import datetime\n",
        "import matplotlib.pyplot as plt\n",
        "from matplotlib import style\n",
        "style.use('ggplot')"
      ],
      "execution_count": 0,
      "outputs": []
    },
    {
      "cell_type": "code",
      "metadata": {
        "id": "Isn8rVZXF7kR",
        "colab_type": "code",
        "outputId": "c3bbc3fc-619c-470f-8b25-8af7aadc011f",
        "colab": {
          "base_uri": "https://localhost:8080/",
          "height": 276
        }
      },
      "source": [
        "df['Forecast'] = np.nan\n",
        "last_date = df.iloc[-1].name\n",
        "last_unix = last_date.timestamp()\n",
        "one_day = 86400\n",
        "next_unix = last_unix + one_day\n",
        "\n",
        "#now populate dataframe with the new dates and forecast values\n",
        "\n",
        "for i in forecast_set:\n",
        "  next_date = datetime.datetime.fromtimestamp(next_unix)\n",
        "  next_unix += one_day\n",
        "  df.loc[next_date] = [np.nan for _ in range(len(df.columns)-1)] + [i]\n",
        "\n",
        "\n",
        "# here date is taken as a index which can be checked using df.head()\n",
        "# df.head()\n",
        "\n",
        "df['Adj. Close'].plot()\n",
        "df['Forecast'].plot()\n",
        "plt.legend(loc=4)\n",
        "plt.xlabel('Date')\n",
        "plt.ylabel('price')\n",
        "plt.show()"
      ],
      "execution_count": 15,
      "outputs": [
        {
          "output_type": "display_data",
          "data": {
            "image/png": "[encoded data removed]",
            "text/plain": [
              "<Figure size 432x288 with 1 Axes>"
            ]
          },
          "metadata": {
            "tags": []
          }
        }
      ]
    },
    {
      "cell_type": "markdown",
      "metadata": {
        "colab_type": "text",
        "id": "Xe9U_ZQWRr7s"
      },
      "source": [
        "PLOTTING THE GRAPH"
      ]
    },
    {
      "cell_type": "code",
      "metadata": {
        "id": "tzUIHPoIKhqT",
        "colab_type": "code",
        "outputId": "49db60ff-955d-4ce8-952d-326a7760207b",
        "colab": {
          "base_uri": "https://localhost:8080/",
          "height": 284
        }
      },
      "source": [
        "df['Adj. Close'].iloc[-800:df['Forecast'].shape[0]].plot()\n",
        "df['Forecast'].iloc[-800:df['Forecast'].shape[0]].plot()\n",
        "plt.legend(loc=4)\n",
        "plt.xlabel('Date')\n",
        "plt.ylabel('price')\n",
        "plt.show()"
      ],
      "execution_count": 16,
      "outputs": [
        {
          "output_type": "display_data",
          "data": {
            "image/png": "[encoded data removed]",
            "text/plain": [
              "<Figure size 432x288 with 1 Axes>"
            ]
          },
          "metadata": {
            "tags": []
          }
        }
      ]
    },
    {
      "cell_type": "markdown",
      "metadata": {
        "id": "OxTm3tqIBGtu",
        "colab_type": "text"
      },
      "source": [
        "As many jobs as you want"
      ]
    },
    {
      "cell_type": "code",
      "metadata": {
        "colab_type": "code",
        "outputId": "422bf3c5-82e0-4f4d-bbe8-30d8f074ab97",
        "id": "SD2WNhLCRqxx",
        "colab": {
          "base_uri": "https://localhost:8080/",
          "height": 36
        }
      },
      "source": [
        "clf = LinearRegression(n_jobs=50)\n",
        "clf.fit(x_train, y_train)\n",
        "accuracy = round( clf.score(x_test, y_test)*100, 3 )\n",
        "print(accuracy)"
      ],
      "execution_count": 17,
      "outputs": [
        {
          "output_type": "stream",
          "text": [
            "88.461\n"
          ],
          "name": "stdout"
        }
      ]
    },
    {
      "cell_type": "code",
      "metadata": {
        "id": "cLjh52YxA25n",
        "colab_type": "code",
        "colab": {}
      },
      "source": [
        ""
      ],
      "execution_count": 0,
      "outputs": []
    }
  ]
}