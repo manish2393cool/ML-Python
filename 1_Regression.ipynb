{
  "nbformat": 4,
  "nbformat_minor": 0,
  "metadata": {
    "colab": {
      "name": "1. Regression.ipynb",
      "provenance": [],
      "include_colab_link": true
    },
    "kernelspec": {
      "name": "python3",
      "display_name": "Python 3"
    },
    "accelerator": "GPU"
  },
  "cells": [
    {
      "cell_type": "markdown",
      "metadata": {
        "id": "view-in-github",
        "colab_type": "text"
      },
      "source": [
        "<a href=\"https://colab.research.google.com/github/manish2393cool/ML-Python/blob/master/1_Regression.ipynb\" target=\"_parent\"><img src=\"https://colab.research.google.com/assets/colab-badge.svg\" alt=\"Open In Colab\"/></a>"
      ]
    },
    {
      "cell_type": "code",
      "metadata": {
        "id": "VWmtbgMJf7Pc",
        "colab_type": "code",
        "colab": {
          "base_uri": "https://localhost:8080/",
          "height": 802
        },
        "outputId": "95cd0c9e-23d1-4045-bd75-2b3300206881"
      },
      "source": [
        "!pip install Quandl"
      ],
      "execution_count": 1,
      "outputs": [
        {
          "output_type": "stream",
          "text": [
            "Collecting Quandl\n",
            "  Downloading https://files.pythonhosted.org/packages/12/64/6314547cb01fa75697ddba6d6d43a9f1d023c1730ffc6abf3db7a0c89222/Quandl-3.4.8-py2.py3-none-any.whl\n",
            "Collecting inflection>=0.3.1 (from Quandl)\n",
            "  Downloading https://files.pythonhosted.org/packages/d5/35/a6eb45b4e2356fe688b21570864d4aa0d0a880ce387defe9c589112077f8/inflection-0.3.1.tar.gz\n",
            "Requirement already satisfied: pandas>=0.14 in /usr/local/lib/python3.6/dist-packages (from Quandl) (0.24.2)\n",
            "Requirement already satisfied: requests>=2.7.0 in /usr/local/lib/python3.6/dist-packages (from Quandl) (2.21.0)\n",
            "Requirement already satisfied: numpy>=1.8 in /usr/local/lib/python3.6/dist-packages (from Quandl) (1.16.5)\n",
            "Collecting more-itertools<=5.0.0 (from Quandl)\n",
            "\u001b[?25l  Downloading https://files.pythonhosted.org/packages/a4/a6/42f17d065bda1fac255db13afc94c93dbfb64393eae37c749b4cb0752fc7/more_itertools-5.0.0-py3-none-any.whl (52kB)\n",
            "\r\u001b[K     |██████▎                         | 10kB 15.4MB/s eta 0:00:01\r\u001b[K     |████████████▌                   | 20kB 22.4MB/s eta 0:00:01\r\u001b[K     |██████████████████▉             | 30kB 27.8MB/s eta 0:00:01\r\u001b[K     |█████████████████████████       | 40kB 8.9MB/s eta 0:00:01\r\u001b[K     |███████████████████████████████▎| 51kB 10.5MB/s eta 0:00:01\r\u001b[K     |████████████████████████████████| 61kB 10.2MB/s \n",
            "\u001b[?25hRequirement already satisfied: six in /usr/local/lib/python3.6/dist-packages (from Quandl) (1.12.0)\n",
            "Requirement already satisfied: python-dateutil in /usr/local/lib/python3.6/dist-packages (from Quandl) (2.5.3)\n",
            "Requirement already satisfied: pyasn1 in /usr/local/lib/python3.6/dist-packages (from Quandl) (0.4.7)\n",
            "Collecting ndg-httpsclient (from Quandl)\n",
            "  Downloading https://files.pythonhosted.org/packages/fb/67/c2f508c00ed2a6911541494504b7cac16fe0b0473912568df65fd1801132/ndg_httpsclient-0.5.1-py3-none-any.whl\n",
            "Collecting pyOpenSSL (from Quandl)\n",
            "\u001b[?25l  Downloading https://files.pythonhosted.org/packages/01/c8/ceb170d81bd3941cbeb9940fc6cc2ef2ca4288d0ca8929ea4db5905d904d/pyOpenSSL-19.0.0-py2.py3-none-any.whl (53kB)\n",
            "\r\u001b[K     |██████▏                         | 10kB 17.6MB/s eta 0:00:01\r\u001b[K     |████████████▎                   | 20kB 24.5MB/s eta 0:00:01\r\u001b[K     |██████████████████▍             | 30kB 30.5MB/s eta 0:00:01\r\u001b[K     |████████████████████████▋       | 40kB 34.5MB/s eta 0:00:01\r\u001b[K     |██████████████████████████████▊ | 51kB 36.3MB/s eta 0:00:01\r\u001b[K     |████████████████████████████████| 61kB 24.1MB/s \n",
            "\u001b[?25hRequirement already satisfied: pytz>=2011k in /usr/local/lib/python3.6/dist-packages (from pandas>=0.14->Quandl) (2018.9)\n",
            "Requirement already satisfied: idna<2.9,>=2.5 in /usr/local/lib/python3.6/dist-packages (from requests>=2.7.0->Quandl) (2.8)\n",
            "Requirement already satisfied: chardet<3.1.0,>=3.0.2 in /usr/local/lib/python3.6/dist-packages (from requests>=2.7.0->Quandl) (3.0.4)\n",
            "Requirement already satisfied: certifi>=2017.4.17 in /usr/local/lib/python3.6/dist-packages (from requests>=2.7.0->Quandl) (2019.6.16)\n",
            "Requirement already satisfied: urllib3<1.25,>=1.21.1 in /usr/local/lib/python3.6/dist-packages (from requests>=2.7.0->Quandl) (1.24.3)\n",
            "Collecting cryptography>=2.3 (from pyOpenSSL->Quandl)\n",
            "\u001b[?25l  Downloading https://files.pythonhosted.org/packages/97/18/c6557f63a6abde34707196fb2cad1c6dc0dbff25a200d5044922496668a4/cryptography-2.7-cp34-abi3-manylinux1_x86_64.whl (2.3MB)\n",
            "\u001b[K     |████████████████████████████████| 2.3MB 18.4MB/s \n",
            "\u001b[?25hCollecting asn1crypto>=0.21.0 (from cryptography>=2.3->pyOpenSSL->Quandl)\n",
            "\u001b[?25l  Downloading https://files.pythonhosted.org/packages/ea/cd/35485615f45f30a510576f1a56d1e0a7ad7bd8ab5ed7cdc600ef7cd06222/asn1crypto-0.24.0-py2.py3-none-any.whl (101kB)\n",
            "\u001b[K     |████████████████████████████████| 102kB 31.2MB/s \n",
            "\u001b[?25hRequirement already satisfied: cffi!=1.11.3,>=1.8 in /usr/local/lib/python3.6/dist-packages (from cryptography>=2.3->pyOpenSSL->Quandl) (1.12.3)\n",
            "Requirement already satisfied: pycparser in /usr/local/lib/python3.6/dist-packages (from cffi!=1.11.3,>=1.8->cryptography>=2.3->pyOpenSSL->Quandl) (2.19)\n",
            "Building wheels for collected packages: inflection\n",
            "  Building wheel for inflection (setup.py) ... \u001b[?25l\u001b[?25hdone\n",
            "  Created wheel for inflection: filename=inflection-0.3.1-cp36-none-any.whl size=6076 sha256=6b86f62b13baaf3a3a09f9c83d2761ac236205493998dc9949e213bc2693e0f5\n",
            "  Stored in directory: /root/.cache/pip/wheels/9f/5a/d3/6fc3bf6516d2a3eb7e18f9f28b472110b59325f3f258fe9211\n",
            "Successfully built inflection\n",
            "\u001b[31mERROR: datascience 0.10.6 has requirement folium==0.2.1, but you'll have folium 0.8.3 which is incompatible.\u001b[0m\n",
            "Installing collected packages: inflection, more-itertools, asn1crypto, cryptography, pyOpenSSL, ndg-httpsclient, Quandl\n",
            "  Found existing installation: more-itertools 7.2.0\n",
            "    Uninstalling more-itertools-7.2.0:\n",
            "      Successfully uninstalled more-itertools-7.2.0\n",
            "Successfully installed Quandl-3.4.8 asn1crypto-0.24.0 cryptography-2.7 inflection-0.3.1 more-itertools-5.0.0 ndg-httpsclient-0.5.1 pyOpenSSL-19.0.0\n"
          ],
          "name": "stdout"
        }
      ]
    },
    {
      "cell_type": "code",
      "metadata": {
        "id": "9rs_d4eBfqKD",
        "colab_type": "code",
        "colab": {}
      },
      "source": [
        "import pandas as pd\n",
        "import quandl as q\n",
        "import numpy as np"
      ],
      "execution_count": 0,
      "outputs": []
    },
    {
      "cell_type": "code",
      "metadata": {
        "id": "EGYk0uB3i7xH",
        "colab_type": "code",
        "colab": {}
      },
      "source": [
        "import math"
      ],
      "execution_count": 0,
      "outputs": []
    },
    {
      "cell_type": "code",
      "metadata": {
        "id": "nJLFROBhf3GK",
        "colab_type": "code",
        "colab": {}
      },
      "source": [
        "q.ApiConfig.api_key = 'HyXNvMhpxYjiXjSuWZtu'\n",
        "df = q.get('WIKI/GOOGL')"
      ],
      "execution_count": 0,
      "outputs": []
    },
    {
      "cell_type": "code",
      "metadata": {
        "id": "lelk7piKgf2E",
        "colab_type": "code",
        "colab": {}
      },
      "source": [
        "df = df[['Adj. Open','Adj. High','Adj. Low','Adj. Close','Adj. Volume']]\n",
        "df['HL_PCT'] = (df['Adj. High'] - df['Adj. Close']) / df['Adj. Close'] *100.0\n",
        "df['PCT_Change'] = (df['Adj. Close'] - df['Adj. Open']) / df['Adj. Open'] *100.0\n",
        "\n",
        "df = df[['Adj. Close', 'HL_PCT','PCT_Change', 'Adj. Volume']]"
      ],
      "execution_count": 0,
      "outputs": []
    },
    {
      "cell_type": "code",
      "metadata": {
        "id": "trUsBrBUhdC5",
        "colab_type": "code",
        "colab": {
          "base_uri": "https://localhost:8080/",
          "height": 394
        },
        "outputId": "c72a5353-c229-4f7f-d827-22a4e355b343"
      },
      "source": [
        "df.head(10)"
      ],
      "execution_count": 10,
      "outputs": [
        {
          "output_type": "execute_result",
          "data": {
            "text/html": [
              "<div>\n",
              "<style scoped>\n",
              "    .dataframe tbody tr th:only-of-type {\n",
              "        vertical-align: middle;\n",
              "    }\n",
              "\n",
              "    .dataframe tbody tr th {\n",
              "        vertical-align: top;\n",
              "    }\n",
              "\n",
              "    .dataframe thead th {\n",
              "        text-align: right;\n",
              "    }\n",
              "</style>\n",
              "<table border=\"1\" class=\"dataframe\">\n",
              "  <thead>\n",
              "    <tr style=\"text-align: right;\">\n",
              "      <th></th>\n",
              "      <th>Adj. Close</th>\n",
              "      <th>HL_PCT</th>\n",
              "      <th>PCT_Change</th>\n",
              "      <th>Adj. Volume</th>\n",
              "    </tr>\n",
              "    <tr>\n",
              "      <th>Date</th>\n",
              "      <th></th>\n",
              "      <th></th>\n",
              "      <th></th>\n",
              "      <th></th>\n",
              "    </tr>\n",
              "  </thead>\n",
              "  <tbody>\n",
              "    <tr>\n",
              "      <th>2004-08-19</th>\n",
              "      <td>50.322842</td>\n",
              "      <td>3.712563</td>\n",
              "      <td>0.324968</td>\n",
              "      <td>44659000.0</td>\n",
              "    </tr>\n",
              "    <tr>\n",
              "      <th>2004-08-20</th>\n",
              "      <td>54.322689</td>\n",
              "      <td>0.710922</td>\n",
              "      <td>7.227007</td>\n",
              "      <td>22834300.0</td>\n",
              "    </tr>\n",
              "    <tr>\n",
              "      <th>2004-08-23</th>\n",
              "      <td>54.869377</td>\n",
              "      <td>3.729433</td>\n",
              "      <td>-1.227880</td>\n",
              "      <td>18256100.0</td>\n",
              "    </tr>\n",
              "    <tr>\n",
              "      <th>2004-08-24</th>\n",
              "      <td>52.597363</td>\n",
              "      <td>6.417469</td>\n",
              "      <td>-5.726357</td>\n",
              "      <td>15247300.0</td>\n",
              "    </tr>\n",
              "    <tr>\n",
              "      <th>2004-08-25</th>\n",
              "      <td>53.164113</td>\n",
              "      <td>1.886792</td>\n",
              "      <td>1.183658</td>\n",
              "      <td>9188600.0</td>\n",
              "    </tr>\n",
              "    <tr>\n",
              "      <th>2004-08-26</th>\n",
              "      <td>54.122070</td>\n",
              "      <td>0.037068</td>\n",
              "      <td>2.820391</td>\n",
              "      <td>7094800.0</td>\n",
              "    </tr>\n",
              "    <tr>\n",
              "      <th>2004-08-27</th>\n",
              "      <td>53.239345</td>\n",
              "      <td>2.326896</td>\n",
              "      <td>-1.803885</td>\n",
              "      <td>6211700.0</td>\n",
              "    </tr>\n",
              "    <tr>\n",
              "      <th>2004-08-30</th>\n",
              "      <td>51.162935</td>\n",
              "      <td>3.411430</td>\n",
              "      <td>-3.106003</td>\n",
              "      <td>5196700.0</td>\n",
              "    </tr>\n",
              "    <tr>\n",
              "      <th>2004-08-31</th>\n",
              "      <td>51.343492</td>\n",
              "      <td>1.308977</td>\n",
              "      <td>0.048866</td>\n",
              "      <td>4917800.0</td>\n",
              "    </tr>\n",
              "    <tr>\n",
              "      <th>2004-09-01</th>\n",
              "      <td>50.280210</td>\n",
              "      <td>2.713217</td>\n",
              "      <td>-2.385589</td>\n",
              "      <td>9138200.0</td>\n",
              "    </tr>\n",
              "  </tbody>\n",
              "</table>\n",
              "</div>"
            ],
            "text/plain": [
              "            Adj. Close    HL_PCT  PCT_Change  Adj. Volume\n",
              "Date                                                     \n",
              "2004-08-19   50.322842  3.712563    0.324968   44659000.0\n",
              "2004-08-20   54.322689  0.710922    7.227007   22834300.0\n",
              "2004-08-23   54.869377  3.729433   -1.227880   18256100.0\n",
              "2004-08-24   52.597363  6.417469   -5.726357   15247300.0\n",
              "2004-08-25   53.164113  1.886792    1.183658    9188600.0\n",
              "2004-08-26   54.122070  0.037068    2.820391    7094800.0\n",
              "2004-08-27   53.239345  2.326896   -1.803885    6211700.0\n",
              "2004-08-30   51.162935  3.411430   -3.106003    5196700.0\n",
              "2004-08-31   51.343492  1.308977    0.048866    4917800.0\n",
              "2004-09-01   50.280210  2.713217   -2.385589    9138200.0"
            ]
          },
          "metadata": {
            "tags": []
          },
          "execution_count": 10
        }
      ]
    },
    {
      "cell_type": "code",
      "metadata": {
        "id": "EX1DpBYNhoKe",
        "colab_type": "code",
        "colab": {}
      },
      "source": [
        "# can change depending on the forecast column you want\n",
        "forecast_col = 'Adj. Close'\n",
        "# adjust outlier\n",
        "df.fillna(-99999, inplace = True)"
      ],
      "execution_count": 0,
      "outputs": []
    },
    {
      "cell_type": "code",
      "metadata": {
        "id": "-eFOxcJZihwI",
        "colab_type": "code",
        "colab": {
          "base_uri": "https://localhost:8080/",
          "height": 237
        },
        "outputId": "e5e9a056-bb28-4bd1-8c2c-f11a08478c39"
      },
      "source": [
        "# want to forecast 10% in future\n",
        "forecast_out = int(math.ceil(0.1*len(df)))\n",
        "# attributes which effect next days\n",
        "df['label'] = df[forecast_col].shift(-forecast_out)\n",
        "df.dropna(inplace=True)\n",
        "df.tail()"
      ],
      "execution_count": 34,
      "outputs": [
        {
          "output_type": "execute_result",
          "data": {
            "text/html": [
              "<div>\n",
              "<style scoped>\n",
              "    .dataframe tbody tr th:only-of-type {\n",
              "        vertical-align: middle;\n",
              "    }\n",
              "\n",
              "    .dataframe tbody tr th {\n",
              "        vertical-align: top;\n",
              "    }\n",
              "\n",
              "    .dataframe thead th {\n",
              "        text-align: right;\n",
              "    }\n",
              "</style>\n",
              "<table border=\"1\" class=\"dataframe\">\n",
              "  <thead>\n",
              "    <tr style=\"text-align: right;\">\n",
              "      <th></th>\n",
              "      <th>Adj. Close</th>\n",
              "      <th>HL_PCT</th>\n",
              "      <th>PCT_Change</th>\n",
              "      <th>Adj. Volume</th>\n",
              "      <th>label</th>\n",
              "    </tr>\n",
              "    <tr>\n",
              "      <th>Date</th>\n",
              "      <th></th>\n",
              "      <th></th>\n",
              "      <th></th>\n",
              "      <th></th>\n",
              "      <th></th>\n",
              "    </tr>\n",
              "  </thead>\n",
              "  <tbody>\n",
              "    <tr>\n",
              "      <th>2015-07-09</th>\n",
              "      <td>544.65</td>\n",
              "      <td>0.776646</td>\n",
              "      <td>-0.729062</td>\n",
              "      <td>1488324.0</td>\n",
              "      <td>815.95</td>\n",
              "    </tr>\n",
              "    <tr>\n",
              "      <th>2015-07-10</th>\n",
              "      <td>556.11</td>\n",
              "      <td>0.571829</td>\n",
              "      <td>0.433440</td>\n",
              "      <td>2171750.0</td>\n",
              "      <td>814.96</td>\n",
              "    </tr>\n",
              "    <tr>\n",
              "      <th>2015-07-13</th>\n",
              "      <td>571.73</td>\n",
              "      <td>0.195897</td>\n",
              "      <td>2.184054</td>\n",
              "      <td>2089641.0</td>\n",
              "      <td>802.65</td>\n",
              "    </tr>\n",
              "    <tr>\n",
              "      <th>2015-07-14</th>\n",
              "      <td>584.18</td>\n",
              "      <td>0.946404</td>\n",
              "      <td>1.684943</td>\n",
              "      <td>3741583.0</td>\n",
              "      <td>810.73</td>\n",
              "    </tr>\n",
              "    <tr>\n",
              "      <th>2015-07-15</th>\n",
              "      <td>583.96</td>\n",
              "      <td>0.809987</td>\n",
              "      <td>0.037688</td>\n",
              "      <td>2073330.0</td>\n",
              "      <td>810.06</td>\n",
              "    </tr>\n",
              "  </tbody>\n",
              "</table>\n",
              "</div>"
            ],
            "text/plain": [
              "            Adj. Close    HL_PCT  PCT_Change  Adj. Volume   label\n",
              "Date                                                             \n",
              "2015-07-09      544.65  0.776646   -0.729062    1488324.0  815.95\n",
              "2015-07-10      556.11  0.571829    0.433440    2171750.0  814.96\n",
              "2015-07-13      571.73  0.195897    2.184054    2089641.0  802.65\n",
              "2015-07-14      584.18  0.946404    1.684943    3741583.0  810.73\n",
              "2015-07-15      583.96  0.809987    0.037688    2073330.0  810.06"
            ]
          },
          "metadata": {
            "tags": []
          },
          "execution_count": 34
        }
      ]
    },
    {
      "cell_type": "code",
      "metadata": {
        "id": "NOXEXl8cjZRe",
        "colab_type": "code",
        "colab": {}
      },
      "source": [
        "from sklearn import preprocessing, svm\n",
        "from sklearn.model_selection import cross_val_score\n",
        "from sklearn import metrics\n",
        "from sklearn.model_selection import ShuffleSplit\n",
        "from sklearn.pipeline import make_pipeline\n",
        "from sklearn.model_selection import cross_validate\n",
        "from sklearn.metrics import recall_score\n",
        "from sklearn.metrics.scorer import make_scorer\n",
        "# train test split\n",
        "from sklearn.model_selection import train_test_split\n",
        "\n",
        "# cross_validation to handle bias and spread the data points\n",
        "from sklearn.linear_model import LinearRegression\n",
        "\n",
        "#now find x and y"
      ],
      "execution_count": 0,
      "outputs": []
    },
    {
      "cell_type": "code",
      "metadata": {
        "id": "8UwPpg2R9WZZ",
        "colab_type": "code",
        "colab": {}
      },
      "source": [
        "x = np.array(df.drop(['label'],1))\n",
        "y = np.array(df['label'])\n",
        "\n",
        "# scaling is together also scale new values but adds processing time\n",
        "# can be skipped if high speed trading is going on\n",
        "x = preprocessing.scale(x)\n",
        "y = np.array(df['label'])\n",
        "\n",
        "x_train, x_test, y_train, y_test = train_test_split(x, y, test_size = 0.2)"
      ],
      "execution_count": 0,
      "outputs": []
    },
    {
      "cell_type": "code",
      "metadata": {
        "id": "KA1zBU8j_UM9",
        "colab_type": "code",
        "colab": {
          "base_uri": "https://localhost:8080/",
          "height": 36
        },
        "outputId": "05c20b0d-520a-4628-9c92-d6c3096fd4dd"
      },
      "source": [
        "clf = LinearRegression()\n",
        "clf.fit(x_train, y_train)\n",
        "accuracy = round( clf.score(x_test, y_test)*100, 3 )\n",
        "print(accuracy)"
      ],
      "execution_count": 42,
      "outputs": [
        {
          "output_type": "stream",
          "text": [
            "95.643\n"
          ],
          "name": "stdout"
        }
      ]
    },
    {
      "cell_type": "markdown",
      "metadata": {
        "id": "OxTm3tqIBGtu",
        "colab_type": "text"
      },
      "source": [
        "As many jobs as you want"
      ]
    },
    {
      "cell_type": "code",
      "metadata": {
        "id": "m_UYs6jdBG5F",
        "colab_type": "code",
        "colab": {
          "base_uri": "https://localhost:8080/",
          "height": 36
        },
        "outputId": "dbb6a0e1-9d7f-4688-ec58-d0b30956224a"
      },
      "source": [
        "clf = LinearRegression(n_jobs=50)\n",
        "clf.fit(x_train, y_train)\n",
        "accuracy = round( clf.score(x_test, y_test)*100, 3 )\n",
        "print(accuracy)"
      ],
      "execution_count": 47,
      "outputs": [
        {
          "output_type": "stream",
          "text": [
            "95.643\n"
          ],
          "name": "stdout"
        }
      ]
    },
    {
      "cell_type": "code",
      "metadata": {
        "id": "hxsGxBm5AEP2",
        "colab_type": "code",
        "colab": {
          "base_uri": "https://localhost:8080/",
          "height": 36
        },
        "outputId": "f06f95d6-624e-4e07-8e47-4ada1872e681"
      },
      "source": [
        "# want to forecast 1% in future\n",
        "forecast_out = int(math.ceil(0.01*len(df)))\n",
        "# attributes which effect next days\n",
        "df['label'] = df[forecast_col].shift(-forecast_out)\n",
        "df.dropna(inplace=True)\n",
        "print(\"Days in advance: \", forecast_out)"
      ],
      "execution_count": 40,
      "outputs": [
        {
          "output_type": "stream",
          "text": [
            "Days in advance:  28\n"
          ],
          "name": "stdout"
        }
      ]
    },
    {
      "cell_type": "markdown",
      "metadata": {
        "id": "MSZMhKkcA3pS",
        "colab_type": "text"
      },
      "source": [
        "LINEAR kernal"
      ]
    },
    {
      "cell_type": "code",
      "metadata": {
        "id": "OJk-dgUY_n6W",
        "colab_type": "code",
        "colab": {
          "base_uri": "https://localhost:8080/",
          "height": 93
        },
        "outputId": "30a132a2-0684-40ec-ae20-49f33cce16db"
      },
      "source": [
        "clf = svm.SVR()\n",
        "clf.fit(x_train, y_train)\n",
        "accuracy = round( clf.score(x_test, y_test)*100, 3 )\n",
        "print(accuracy)"
      ],
      "execution_count": 43,
      "outputs": [
        {
          "output_type": "stream",
          "text": [
            "/usr/local/lib/python3.6/dist-packages/sklearn/svm/base.py:193: FutureWarning: The default value of gamma will change from 'auto' to 'scale' in version 0.22 to account better for unscaled features. Set gamma explicitly to 'auto' or 'scale' to avoid this warning.\n",
            "  \"avoid this warning.\", FutureWarning)\n"
          ],
          "name": "stderr"
        },
        {
          "output_type": "stream",
          "text": [
            "84.441\n"
          ],
          "name": "stdout"
        }
      ]
    },
    {
      "cell_type": "markdown",
      "metadata": {
        "id": "Oa6sQXU7A6b6",
        "colab_type": "text"
      },
      "source": [
        "poly kernal"
      ]
    },
    {
      "cell_type": "code",
      "metadata": {
        "id": "yyKK7Lh2A3DG",
        "colab_type": "code",
        "colab": {
          "base_uri": "https://localhost:8080/",
          "height": 93
        },
        "outputId": "6b9323e2-f228-4736-ed1e-eff098076d78"
      },
      "source": [
        "clf = svm.SVR(kernel='poly')\n",
        "clf.fit(x_train, y_train)\n",
        "accuracy = round( clf.score(x_test, y_test)*100, 3 )\n",
        "print(accuracy)"
      ],
      "execution_count": 45,
      "outputs": [
        {
          "output_type": "stream",
          "text": [
            "/usr/local/lib/python3.6/dist-packages/sklearn/svm/base.py:193: FutureWarning: The default value of gamma will change from 'auto' to 'scale' in version 0.22 to account better for unscaled features. Set gamma explicitly to 'auto' or 'scale' to avoid this warning.\n",
            "  \"avoid this warning.\", FutureWarning)\n"
          ],
          "name": "stderr"
        },
        {
          "output_type": "stream",
          "text": [
            "75.253\n"
          ],
          "name": "stdout"
        }
      ]
    },
    {
      "cell_type": "code",
      "metadata": {
        "id": "cLjh52YxA25n",
        "colab_type": "code",
        "colab": {}
      },
      "source": [
        ""
      ],
      "execution_count": 0,
      "outputs": []
    }
  ]
}