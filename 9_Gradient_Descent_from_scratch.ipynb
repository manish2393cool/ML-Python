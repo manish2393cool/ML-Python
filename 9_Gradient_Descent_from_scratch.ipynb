{
  "nbformat": 4,
  "nbformat_minor": 0,
  "metadata": {
    "colab": {
      "name": "9. Gradient Descent from scratch.ipynb",
      "provenance": [],
      "include_colab_link": true
    },
    "kernelspec": {
      "name": "python3",
      "display_name": "Python 3"
    }
  },
  "cells": [
    {
      "cell_type": "markdown",
      "metadata": {
        "id": "view-in-github",
        "colab_type": "text"
      },
      "source": [
        "<a href=\"https://colab.research.google.com/github/manish2393cool/ML-Python/blob/master/9_Gradient_Descent_from_scratch.ipynb\" target=\"_parent\"><img src=\"https://colab.research.google.com/assets/colab-badge.svg\" alt=\"Open In Colab\"/></a>"
      ]
    },
    {
      "cell_type": "markdown",
      "metadata": {
        "id": "iWeei_IxdfS4",
        "colab_type": "text"
      },
      "source": [
        "### Obtain the 10 target (output) datapoints for the following equation for uniformly spaced input variable in the range [0,10]. \n",
        "### y = x+3 + noise\n",
        "### where, noise can be Gaussian noise added to the actual signal."
      ]
    },
    {
      "cell_type": "code",
      "metadata": {
        "id": "mG0WvzeqdZMu",
        "colab_type": "code",
        "colab": {}
      },
      "source": [
        "import random\n",
        "import numpy as np\n",
        "import matplotlib.pyplot as plt\n",
        "N=20"
      ],
      "execution_count": 0,
      "outputs": []
    },
    {
      "cell_type": "code",
      "metadata": {
        "id": "GUeAEdlldjHq",
        "colab_type": "code",
        "colab": {
          "base_uri": "https://localhost:8080/",
          "height": 237
        },
        "outputId": "1da62292-1683-4b3c-cb46-e17a711d3e7f"
      },
      "source": [
        "X = np.array([i for i in range(1,N+1)])\n",
        "noise = np.random.normal(0,1,N)\n",
        "y = X + 5\n",
        "y_ = X + 5 + noise\n",
        "X,y,y_,noise"
      ],
      "execution_count": 2,
      "outputs": [
        {
          "output_type": "execute_result",
          "data": {
            "text/plain": [
              "(array([ 1,  2,  3,  4,  5,  6,  7,  8,  9, 10, 11, 12, 13, 14, 15, 16, 17,\n",
              "        18, 19, 20]),\n",
              " array([ 6,  7,  8,  9, 10, 11, 12, 13, 14, 15, 16, 17, 18, 19, 20, 21, 22,\n",
              "        23, 24, 25]),\n",
              " array([ 8.06917421,  7.30953908,  5.73321537,  9.85824299, 10.59764571,\n",
              "        11.18219296, 12.67808494, 13.07950194, 13.5205609 , 13.46005083,\n",
              "        15.75700354, 18.04626702, 17.32735284, 19.23461784, 20.25901298,\n",
              "        20.96423328, 20.73030893, 24.5610692 , 24.43212797, 24.71822066]),\n",
              " array([ 2.06917421,  0.30953908, -2.26678463,  0.85824299,  0.59764571,\n",
              "         0.18219296,  0.67808494,  0.07950194, -0.4794391 , -1.53994917,\n",
              "        -0.24299646,  1.04626702, -0.67264716,  0.23461784,  0.25901298,\n",
              "        -0.03576672, -1.26969107,  1.5610692 ,  0.43212797, -0.28177934]))"
            ]
          },
          "metadata": {
            "tags": []
          },
          "execution_count": 2
        }
      ]
    },
    {
      "cell_type": "code",
      "metadata": {
        "id": "VkklPrQZdkpe",
        "colab_type": "code",
        "colab": {
          "base_uri": "https://localhost:8080/",
          "height": 283
        },
        "outputId": "7227a315-cc08-4319-d749-ff8116dbc1c3"
      },
      "source": [
        "plt.figure(1)\n",
        "plt.subplot(211)\n",
        "plt.plot(X, y)\n",
        "plt.show()\n",
        "plt.figure(2)\n",
        "plt.subplot(212)\n",
        "plt.plot(X, y_)\n",
        "plt.show()"
      ],
      "execution_count": 3,
      "outputs": [
        {
          "output_type": "display_data",
          "data": {
            "image/png": "[encoded data removed]",
            "text/plain": [
              "<Figure size 432x288 with 1 Axes>"
            ]
          },
          "metadata": {
            "tags": []
          }
        },
        {
          "output_type": "display_data",
          "data": {
            "image/png": "[encoded data removed]",
            "text/plain": [
              "<Figure size 432x288 with 1 Axes>"
            ]
          },
          "metadata": {
            "tags": []
          }
        }
      ]
    },
    {
      "cell_type": "markdown",
      "metadata": {
        "id": "J_-QDzsqdpVW",
        "colab_type": "text"
      },
      "source": [
        "### Using Gradient Descent"
      ]
    },
    {
      "cell_type": "code",
      "metadata": {
        "id": "bYr02QpSdkm7",
        "colab_type": "code",
        "colab": {}
      },
      "source": [
        "def SGD(theta, alpha, num_iters, h, X, y):\n",
        "    for i in range(0,num_iters):\n",
        "        theta[0] = theta[0] - (alpha) * (h - y)\n",
        "        theta[1] = theta[1] - (alpha) * ((h - y) * X)\n",
        "        h = theta[1]*X + theta[0] \n",
        "    return theta\n",
        "\n",
        "def hypothesis(theta, X):\n",
        "    h = np.ones((X.shape[0],1))\n",
        "    for i in range(0,X.shape[0]):\n",
        "        x = np.concatenate((np.ones(1), np.array([X[i]])), axis = 0)\n",
        "        h[i] = float(np.matmul(theta, x))\n",
        "    h = h.reshape(X.shape[0])\n",
        "    return h\n",
        "\n",
        "def sgd_linear_regression(X, y, alpha, num_iters):\n",
        "    # initializing the parameter vector\n",
        "    theta = np.zeros(2)\n",
        "    # hypothesis calculation\n",
        "    h = hypothesis(theta, X)\n",
        "    print('X: ',X)\n",
        "    print('h: ',h)\n",
        "    # returning the optimized parameters by Gradient Descent\n",
        "    for i in range(0, X.shape[0]):\n",
        "        theta = SGD(theta,alpha,num_iters,h[i],X[i],y[i])\n",
        "    theta = theta.reshape(1, 2)\n",
        "    return theta"
      ],
      "execution_count": 0,
      "outputs": []
    },
    {
      "cell_type": "code",
      "metadata": {
        "id": "CuUxXIlkdkkc",
        "colab_type": "code",
        "colab": {
          "base_uri": "https://localhost:8080/",
          "height": 72
        },
        "outputId": "c808d46a-0058-4ad5-bda3-ec92f81b9a8a"
      },
      "source": [
        "theta = sgd_linear_regression(X, y_, 0.00001, 10000)\n",
        "print( theta )"
      ],
      "execution_count": 5,
      "outputs": [
        {
          "output_type": "stream",
          "text": [
            "X:  [ 1  2  3  4  5  6  7  8  9 10 11 12 13 14 15 16 17 18 19 20]\n",
            "h:  [0. 0. 0. 0. 0. 0. 0. 0. 0. 0. 0. 0. 0. 0. 0. 0. 0. 0. 0. 0.]\n",
            "[[1.14202342 1.17880986]]\n"
          ],
          "name": "stdout"
        }
      ]
    },
    {
      "cell_type": "code",
      "metadata": {
        "id": "dAmK-WiJdkci",
        "colab_type": "code",
        "colab": {
          "base_uri": "https://localhost:8080/",
          "height": 90
        },
        "outputId": "781e0051-829f-4905-c603-47364ce650e5"
      },
      "source": [
        "y_pred = hypothesis(theta, X)\n",
        "print( y_pred )"
      ],
      "execution_count": 6,
      "outputs": [
        {
          "output_type": "stream",
          "text": [
            "[ 2.32083328  3.49964314  4.67845301  5.85726287  7.03607273  8.21488259\n",
            "  9.39369245 10.57250232 11.75131218 12.93012204 14.1089319  15.28774176\n",
            " 16.46655163 17.64536149 18.82417135 20.00298121 21.18179107 22.36060094\n",
            " 23.5394108  24.71822066]\n"
          ],
          "name": "stdout"
        }
      ]
    },
    {
      "cell_type": "code",
      "metadata": {
        "id": "J9_kxQ1udkaq",
        "colab_type": "code",
        "colab": {
          "base_uri": "https://localhost:8080/",
          "height": 269
        },
        "outputId": "7c9af6ac-f669-4054-ab1a-b54f7a55e0af"
      },
      "source": [
        "plt.plot( y_,'o',y_pred,'r')\n",
        "plt.show()"
      ],
      "execution_count": 7,
      "outputs": [
        {
          "output_type": "display_data",
          "data": {
            "image/png": "[encoded data removed]",
            "text/plain": [
              "<Figure size 432x288 with 1 Axes>"
            ]
          },
          "metadata": {
            "tags": []
          }
        }
      ]
    },
    {
      "cell_type": "markdown",
      "metadata": {
        "id": "bDZQUaAjdwm_",
        "colab_type": "text"
      },
      "source": [
        "### Pseudo Inverse Method"
      ]
    },
    {
      "cell_type": "code",
      "metadata": {
        "id": "7FxhT8EvdkZH",
        "colab_type": "code",
        "colab": {
          "base_uri": "https://localhost:8080/",
          "height": 35
        },
        "outputId": "6c1a4523-5d0e-4571-b675-6be3ad27144f"
      },
      "source": [
        "X_b = np.c_[np.ones((N,1)),X]\n",
        "theta_best = np.linalg.inv(X_b.T.dot(X_b)).dot(X_b.T).dot(y_)\n",
        "print(theta_best)"
      ],
      "execution_count": 8,
      "outputs": [
        {
          "output_type": "stream",
          "text": [
            "[5.23457807 0.98488982]\n"
          ],
          "name": "stdout"
        }
      ]
    },
    {
      "cell_type": "code",
      "metadata": {
        "id": "iT96zdILdkV5",
        "colab_type": "code",
        "colab": {
          "base_uri": "https://localhost:8080/",
          "height": 90
        },
        "outputId": "4f618cff-62a1-472f-a462-b94b6cdd27fb"
      },
      "source": [
        "y_pred_pseudo = hypothesis(theta_best, X)\n",
        "print( y_pred_pseudo )"
      ],
      "execution_count": 9,
      "outputs": [
        {
          "output_type": "stream",
          "text": [
            "[ 6.21946789  7.20435771  8.18924753  9.17413734 10.15902716 11.14391698\n",
            " 12.1288068  13.11369662 14.09858643 15.08347625 16.06836607 17.05325589\n",
            " 18.0381457  19.02303552 20.00792534 20.99281516 21.97770498 22.96259479\n",
            " 23.94748461 24.93237443]\n"
          ],
          "name": "stdout"
        }
      ]
    },
    {
      "cell_type": "code",
      "metadata": {
        "id": "iB-VzaCDdkTY",
        "colab_type": "code",
        "colab": {
          "base_uri": "https://localhost:8080/",
          "height": 269
        },
        "outputId": "5b8e7256-8d1f-4c49-87d2-9ca9675cbe05"
      },
      "source": [
        "plt.plot( y_,'o',y_pred_pseudo,'r')\n",
        "plt.show()"
      ],
      "execution_count": 10,
      "outputs": [
        {
          "output_type": "display_data",
          "data": {
            "image/png": "[encoded data removed]",
            "text/plain": [
              "<Figure size 432x288 with 1 Axes>"
            ]
          },
          "metadata": {
            "tags": []
          }
        }
      ]
    },
    {
      "cell_type": "code",
      "metadata": {
        "id": "wKDwOdy1djv-",
        "colab_type": "code",
        "colab": {}
      },
      "source": [
        ""
      ],
      "execution_count": 0,
      "outputs": []
    }
  ]
}