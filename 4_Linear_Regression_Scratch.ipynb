{
  "nbformat": 4,
  "nbformat_minor": 0,
  "metadata": {
    "colab": {
      "name": "4. Linear Regression Scratch.ipynb",
      "provenance": [],
      "collapsed_sections": [],
      "include_colab_link": true
    },
    "kernelspec": {
      "name": "python3",
      "display_name": "Python 3"
    },
    "accelerator": "GPU"
  },
  "cells": [
    {
      "cell_type": "markdown",
      "metadata": {
        "id": "view-in-github",
        "colab_type": "text"
      },
      "source": [
        "<a href=\"https://colab.research.google.com/github/manish2393cool/ML-Python/blob/master/4_Linear_Regression_Scratch.ipynb\" target=\"_parent\"><img src=\"https://colab.research.google.com/assets/colab-badge.svg\" alt=\"Open In Colab\"/></a>"
      ]
    },
    {
      "cell_type": "code",
      "metadata": {
        "id": "PTpOl350Ufl5",
        "colab_type": "code",
        "colab": {}
      },
      "source": [
        "from statistics import mean\n",
        "import numpy as np\n",
        "import matplotlib.pyplot as plt\n",
        "from matplotlib import style\n",
        "style.use('fivethirtyeight')"
      ],
      "execution_count": 0,
      "outputs": []
    },
    {
      "cell_type": "code",
      "metadata": {
        "id": "YR3aBOO0VEpe",
        "colab_type": "code",
        "outputId": "ed05c36f-37cb-4dfc-b59f-d81084a9726d",
        "colab": {
          "base_uri": "https://localhost:8080/",
          "height": 282
        }
      },
      "source": [
        "xs = np.array([1,2,3,4,5,6], dtype = np.float64)\n",
        "ys = np.array([5,4,6,5,6,7], dtype = np.float64)\n",
        "\n",
        "plt.scatter(xs,ys)\n",
        "plt.show()"
      ],
      "execution_count": 0,
      "outputs": [
        {
          "output_type": "display_data",
          "data": {
            "image/png": "[encoded data removed]",
            "text/plain": [
              "<Figure size 432x288 with 1 Axes>"
            ]
          },
          "metadata": {
            "tags": []
          }
        }
      ]
    },
    {
      "cell_type": "code",
      "metadata": {
        "id": "xiNNOf7SUfgr",
        "colab_type": "code",
        "outputId": "e92f0016-306f-428e-f4be-b4bee661809f",
        "colab": {
          "base_uri": "https://localhost:8080/",
          "height": 36
        }
      },
      "source": [
        "def best_fit_slope(xs,ys):\n",
        "  m=(( (mean(xs)*mean(ys)) - mean(xs*ys) ) / (mean(xs)*mean(xs) - mean(xs*xs)) )\n",
        "  return m\n",
        "\n",
        "m= best_fit_slope(xs,ys)\n",
        "print(m)"
      ],
      "execution_count": 0,
      "outputs": [
        {
          "output_type": "stream",
          "text": [
            "0.42857142857142866\n"
          ],
          "name": "stdout"
        }
      ]
    },
    {
      "cell_type": "code",
      "metadata": {
        "id": "UEjilNoiTRuH",
        "colab_type": "code",
        "outputId": "9beb139b-5f38-4f9c-b344-15c52c58db8d",
        "colab": {
          "base_uri": "https://localhost:8080/",
          "height": 36
        }
      },
      "source": [
        "def best_fit_slope_intercept(xs,ys):\n",
        "  m=(( (mean(xs)*mean(ys)) - mean(xs*ys) ) / (mean(xs)*mean(xs) - mean(xs*xs)) )\n",
        "  b = mean(ys) - m*mean(xs)\n",
        "  return m,b\n",
        "\n",
        "m,b = best_fit_slope_intercept(xs,ys)\n",
        "print(m,b)"
      ],
      "execution_count": 0,
      "outputs": [
        {
          "output_type": "stream",
          "text": [
            "0.42857142857142866 4.0\n"
          ],
          "name": "stdout"
        }
      ]
    },
    {
      "cell_type": "code",
      "metadata": {
        "id": "72d7HlRLXZt4",
        "colab_type": "code",
        "colab": {}
      },
      "source": [
        "def squared_error(ys_orig, ys_line):\n",
        "  return sum((ys_line - ys_orig)**2)\n",
        "\n",
        "def coeff_of_determination(ys_orig, ys_line):\n",
        "  ys_mean_line = [mean(ys_orig) for y in ys_orig]\n",
        "  squared_error_y_regr =  squared_error(ys_orig, ys_line)\n",
        "  squared_error_y_mean =  squared_error(ys_orig, ys_mean_line)\n",
        "  return 1- (squared_error_y_regr / squared_error_y_mean)"
      ],
      "execution_count": 0,
      "outputs": []
    },
    {
      "cell_type": "code",
      "metadata": {
        "id": "oiHp9te5TutY",
        "colab_type": "code",
        "outputId": "5ab5c694-99c5-482d-d815-c7181d5814e1",
        "colab": {
          "base_uri": "https://localhost:8080/",
          "height": 301
        }
      },
      "source": [
        "regression_line = [m*x + b for x in xs]\n",
        "r_squared = coeff_of_determination(ys, regression_line)\n",
        "\n",
        "print(r_squared)\n",
        "plt.scatter(xs,ys)\n",
        "plt.plot(xs, regression_line)\n",
        "plt.show()"
      ],
      "execution_count": 0,
      "outputs": [
        {
          "output_type": "stream",
          "text": [
            "0.5844155844155845\n"
          ],
          "name": "stdout"
        },
        {
          "output_type": "display_data",
          "data": {
            "image/png": "[encoded data removed]",
            "text/plain": [
              "<Figure size 432x288 with 1 Axes>"
            ]
          },
          "metadata": {
            "tags": []
          }
        }
      ]
    },
    {
      "cell_type": "code",
      "metadata": {
        "id": "x3LWZO3-Vb5i",
        "colab_type": "code",
        "outputId": "d94bbf68-0d09-4a98-b4b2-4713f419779b",
        "colab": {
          "base_uri": "https://localhost:8080/",
          "height": 282
        }
      },
      "source": [
        "predict_x = 4.5\n",
        "predict_y = m* predict_x + b\n",
        "\n",
        "plt.scatter(xs,ys)\n",
        "plt.scatter(predict_x, predict_y, color='red')\n",
        "plt.plot(xs, regression_line)\n",
        "plt.show()"
      ],
      "execution_count": 0,
      "outputs": [
        {
          "output_type": "display_data",
          "data": {
            "image/png": "[encoded data removed]",
            "text/plain": [
              "<Figure size 432x288 with 1 Axes>"
            ]
          },
          "metadata": {
            "tags": []
          }
        }
      ]
    },
    {
      "cell_type": "code",
      "metadata": {
        "id": "S0k_kwaNVq0c",
        "colab_type": "code",
        "colab": {}
      },
      "source": [
        ""
      ],
      "execution_count": 0,
      "outputs": []
    }
  ]
}