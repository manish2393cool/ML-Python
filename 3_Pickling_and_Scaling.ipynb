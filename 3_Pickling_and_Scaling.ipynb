{
  "nbformat": 4,
  "nbformat_minor": 0,
  "metadata": {
    "colab": {
      "name": "3. Pickling and Scaling.ipynb",
      "provenance": [],
      "collapsed_sections": [],
      "toc_visible": true,
      "include_colab_link": true
    },
    "kernelspec": {
      "name": "python3",
      "display_name": "Python 3"
    },
    "accelerator": "GPU"
  },
  "cells": [
    {
      "cell_type": "markdown",
      "metadata": {
        "id": "view-in-github",
        "colab_type": "text"
      },
      "source": [
        "<a href=\"https://colab.research.google.com/github/manish2393cool/ML-Python/blob/master/3_Pickling_and_Scaling.ipynb\" target=\"_parent\"><img src=\"https://colab.research.google.com/assets/colab-badge.svg\" alt=\"Open In Colab\"/></a>"
      ]
    },
    {
      "cell_type": "code",
      "metadata": {
        "id": "VWmtbgMJf7Pc",
        "colab_type": "code",
        "outputId": "ac931cd7-66f3-474c-8ca4-560e38070beb",
        "colab": {
          "base_uri": "https://localhost:8080/",
          "height": 822
        }
      },
      "source": [
        "!pip install Quandl"
      ],
      "execution_count": 1,
      "outputs": [
        {
          "output_type": "stream",
          "text": [
            "Collecting Quandl\n",
            "  Downloading https://files.pythonhosted.org/packages/12/64/6314547cb01fa75697ddba6d6d43a9f1d023c1730ffc6abf3db7a0c89222/Quandl-3.4.8-py2.py3-none-any.whl\n",
            "Requirement already satisfied: pyasn1 in /usr/local/lib/python3.6/dist-packages (from Quandl) (0.4.7)\n",
            "Requirement already satisfied: requests>=2.7.0 in /usr/local/lib/python3.6/dist-packages (from Quandl) (2.21.0)\n",
            "Collecting more-itertools<=5.0.0 (from Quandl)\n",
            "\u001b[?25l  Downloading https://files.pythonhosted.org/packages/a4/a6/42f17d065bda1fac255db13afc94c93dbfb64393eae37c749b4cb0752fc7/more_itertools-5.0.0-py3-none-any.whl (52kB)\n",
            "\r\u001b[K     |██████▎                         | 10kB 17.7MB/s eta 0:00:01\r\u001b[K     |████████████▌                   | 20kB 23.2MB/s eta 0:00:01\r\u001b[K     |██████████████████▉             | 30kB 27.1MB/s eta 0:00:01\r\u001b[K     |█████████████████████████       | 40kB 8.5MB/s eta 0:00:01\r\u001b[K     |███████████████████████████████▎| 51kB 10.1MB/s eta 0:00:01\r\u001b[K     |████████████████████████████████| 61kB 9.7MB/s \n",
            "\u001b[?25hRequirement already satisfied: six in /usr/local/lib/python3.6/dist-packages (from Quandl) (1.12.0)\n",
            "Requirement already satisfied: numpy>=1.8 in /usr/local/lib/python3.6/dist-packages (from Quandl) (1.16.5)\n",
            "Collecting inflection>=0.3.1 (from Quandl)\n",
            "  Downloading https://files.pythonhosted.org/packages/d5/35/a6eb45b4e2356fe688b21570864d4aa0d0a880ce387defe9c589112077f8/inflection-0.3.1.tar.gz\n",
            "Collecting pyOpenSSL (from Quandl)\n",
            "\u001b[?25l  Downloading https://files.pythonhosted.org/packages/01/c8/ceb170d81bd3941cbeb9940fc6cc2ef2ca4288d0ca8929ea4db5905d904d/pyOpenSSL-19.0.0-py2.py3-none-any.whl (53kB)\n",
            "\u001b[K     |████████████████████████████████| 61kB 22.5MB/s \n",
            "\u001b[?25hRequirement already satisfied: pandas>=0.14 in /usr/local/lib/python3.6/dist-packages (from Quandl) (0.24.2)\n",
            "Requirement already satisfied: python-dateutil in /usr/local/lib/python3.6/dist-packages (from Quandl) (2.5.3)\n",
            "Collecting ndg-httpsclient (from Quandl)\n",
            "  Downloading https://files.pythonhosted.org/packages/fb/67/c2f508c00ed2a6911541494504b7cac16fe0b0473912568df65fd1801132/ndg_httpsclient-0.5.1-py3-none-any.whl\n",
            "Requirement already satisfied: idna<2.9,>=2.5 in /usr/local/lib/python3.6/dist-packages (from requests>=2.7.0->Quandl) (2.8)\n",
            "Requirement already satisfied: certifi>=2017.4.17 in /usr/local/lib/python3.6/dist-packages (from requests>=2.7.0->Quandl) (2019.6.16)\n",
            "Requirement already satisfied: chardet<3.1.0,>=3.0.2 in /usr/local/lib/python3.6/dist-packages (from requests>=2.7.0->Quandl) (3.0.4)\n",
            "Requirement already satisfied: urllib3<1.25,>=1.21.1 in /usr/local/lib/python3.6/dist-packages (from requests>=2.7.0->Quandl) (1.24.3)\n",
            "Collecting cryptography>=2.3 (from pyOpenSSL->Quandl)\n",
            "\u001b[?25l  Downloading https://files.pythonhosted.org/packages/97/18/c6557f63a6abde34707196fb2cad1c6dc0dbff25a200d5044922496668a4/cryptography-2.7-cp34-abi3-manylinux1_x86_64.whl (2.3MB)\n",
            "\u001b[K     |████████████████████████████████| 2.3MB 19.1MB/s \n",
            "\u001b[?25hRequirement already satisfied: pytz>=2011k in /usr/local/lib/python3.6/dist-packages (from pandas>=0.14->Quandl) (2018.9)\n",
            "Requirement already satisfied: cffi!=1.11.3,>=1.8 in /usr/local/lib/python3.6/dist-packages (from cryptography>=2.3->pyOpenSSL->Quandl) (1.12.3)\n",
            "Collecting asn1crypto>=0.21.0 (from cryptography>=2.3->pyOpenSSL->Quandl)\n",
            "\u001b[?25l  Downloading https://files.pythonhosted.org/packages/ea/cd/35485615f45f30a510576f1a56d1e0a7ad7bd8ab5ed7cdc600ef7cd06222/asn1crypto-0.24.0-py2.py3-none-any.whl (101kB)\n",
            "\u001b[K     |████████████████████████████████| 102kB 24.7MB/s \n",
            "\u001b[?25hRequirement already satisfied: pycparser in /usr/local/lib/python3.6/dist-packages (from cffi!=1.11.3,>=1.8->cryptography>=2.3->pyOpenSSL->Quandl) (2.19)\n",
            "Building wheels for collected packages: inflection\n",
            "  Building wheel for inflection (setup.py) ... \u001b[?25l\u001b[?25hdone\n",
            "  Created wheel for inflection: filename=inflection-0.3.1-cp36-none-any.whl size=6076 sha256=784b58ede0f2fd3965072b197ae10bd36bdb10c0fa65322e6aa513073d2d65c5\n",
            "  Stored in directory: /root/.cache/pip/wheels/9f/5a/d3/6fc3bf6516d2a3eb7e18f9f28b472110b59325f3f258fe9211\n",
            "Successfully built inflection\n",
            "\u001b[31mERROR: datascience 0.10.6 has requirement folium==0.2.1, but you'll have folium 0.8.3 which is incompatible.\u001b[0m\n",
            "Installing collected packages: more-itertools, inflection, asn1crypto, cryptography, pyOpenSSL, ndg-httpsclient, Quandl\n",
            "  Found existing installation: more-itertools 7.2.0\n",
            "    Uninstalling more-itertools-7.2.0:\n",
            "      Successfully uninstalled more-itertools-7.2.0\n",
            "Successfully installed Quandl-3.4.8 asn1crypto-0.24.0 cryptography-2.7 inflection-0.3.1 more-itertools-5.0.0 ndg-httpsclient-0.5.1 pyOpenSSL-19.0.0\n"
          ],
          "name": "stdout"
        }
      ]
    },
    {
      "cell_type": "code",
      "metadata": {
        "id": "9rs_d4eBfqKD",
        "colab_type": "code",
        "colab": {}
      },
      "source": [
        "import pandas as pd\n",
        "import quandl as q\n",
        "import numpy as np"
      ],
      "execution_count": 0,
      "outputs": []
    },
    {
      "cell_type": "markdown",
      "metadata": {
        "id": "CJ2310o3SgFh",
        "colab_type": "text"
      },
      "source": [
        "PICKLING"
      ]
    },
    {
      "cell_type": "code",
      "metadata": {
        "id": "A6LqL6QkSf9b",
        "colab_type": "code",
        "colab": {}
      },
      "source": [
        "import pickle"
      ],
      "execution_count": 0,
      "outputs": []
    },
    {
      "cell_type": "code",
      "metadata": {
        "id": "EGYk0uB3i7xH",
        "colab_type": "code",
        "colab": {}
      },
      "source": [
        "import math"
      ],
      "execution_count": 0,
      "outputs": []
    },
    {
      "cell_type": "code",
      "metadata": {
        "id": "nJLFROBhf3GK",
        "colab_type": "code",
        "colab": {}
      },
      "source": [
        "q.ApiConfig.api_key = 'HyXNvMhpxYjiXjSuWZtu'\n",
        "df = q.get('WIKI/GOOGL')"
      ],
      "execution_count": 0,
      "outputs": []
    },
    {
      "cell_type": "code",
      "metadata": {
        "id": "lelk7piKgf2E",
        "colab_type": "code",
        "colab": {}
      },
      "source": [
        "df = df[['Adj. Open','Adj. High','Adj. Low','Adj. Close','Adj. Volume']]\n",
        "df['HL_PCT'] = (df['Adj. High'] - df['Adj. Close']) / df['Adj. Close'] *100.0\n",
        "df['PCT_Change'] = (df['Adj. Close'] - df['Adj. Open']) / df['Adj. Open'] *100.0\n",
        "\n",
        "df = df[['Adj. Close', 'HL_PCT','PCT_Change', 'Adj. Volume']]"
      ],
      "execution_count": 0,
      "outputs": []
    },
    {
      "cell_type": "code",
      "metadata": {
        "id": "trUsBrBUhdC5",
        "colab_type": "code",
        "outputId": "139a80d2-5045-44e7-84c4-7dc809fd7186",
        "colab": {
          "base_uri": "https://localhost:8080/",
          "height": 394
        }
      },
      "source": [
        "df.head(10)"
      ],
      "execution_count": 8,
      "outputs": [
        {
          "output_type": "execute_result",
          "data": {
            "text/html": [
              "<div>\n",
              "<style scoped>\n",
              "    .dataframe tbody tr th:only-of-type {\n",
              "        vertical-align: middle;\n",
              "    }\n",
              "\n",
              "    .dataframe tbody tr th {\n",
              "        vertical-align: top;\n",
              "    }\n",
              "\n",
              "    .dataframe thead th {\n",
              "        text-align: right;\n",
              "    }\n",
              "</style>\n",
              "<table border=\"1\" class=\"dataframe\">\n",
              "  <thead>\n",
              "    <tr style=\"text-align: right;\">\n",
              "      <th></th>\n",
              "      <th>Adj. Close</th>\n",
              "      <th>HL_PCT</th>\n",
              "      <th>PCT_Change</th>\n",
              "      <th>Adj. Volume</th>\n",
              "    </tr>\n",
              "    <tr>\n",
              "      <th>Date</th>\n",
              "      <th></th>\n",
              "      <th></th>\n",
              "      <th></th>\n",
              "      <th></th>\n",
              "    </tr>\n",
              "  </thead>\n",
              "  <tbody>\n",
              "    <tr>\n",
              "      <th>2004-08-19</th>\n",
              "      <td>50.322842</td>\n",
              "      <td>3.712563</td>\n",
              "      <td>0.324968</td>\n",
              "      <td>44659000.0</td>\n",
              "    </tr>\n",
              "    <tr>\n",
              "      <th>2004-08-20</th>\n",
              "      <td>54.322689</td>\n",
              "      <td>0.710922</td>\n",
              "      <td>7.227007</td>\n",
              "      <td>22834300.0</td>\n",
              "    </tr>\n",
              "    <tr>\n",
              "      <th>2004-08-23</th>\n",
              "      <td>54.869377</td>\n",
              "      <td>3.729433</td>\n",
              "      <td>-1.227880</td>\n",
              "      <td>18256100.0</td>\n",
              "    </tr>\n",
              "    <tr>\n",
              "      <th>2004-08-24</th>\n",
              "      <td>52.597363</td>\n",
              "      <td>6.417469</td>\n",
              "      <td>-5.726357</td>\n",
              "      <td>15247300.0</td>\n",
              "    </tr>\n",
              "    <tr>\n",
              "      <th>2004-08-25</th>\n",
              "      <td>53.164113</td>\n",
              "      <td>1.886792</td>\n",
              "      <td>1.183658</td>\n",
              "      <td>9188600.0</td>\n",
              "    </tr>\n",
              "    <tr>\n",
              "      <th>2004-08-26</th>\n",
              "      <td>54.122070</td>\n",
              "      <td>0.037068</td>\n",
              "      <td>2.820391</td>\n",
              "      <td>7094800.0</td>\n",
              "    </tr>\n",
              "    <tr>\n",
              "      <th>2004-08-27</th>\n",
              "      <td>53.239345</td>\n",
              "      <td>2.326896</td>\n",
              "      <td>-1.803885</td>\n",
              "      <td>6211700.0</td>\n",
              "    </tr>\n",
              "    <tr>\n",
              "      <th>2004-08-30</th>\n",
              "      <td>51.162935</td>\n",
              "      <td>3.411430</td>\n",
              "      <td>-3.106003</td>\n",
              "      <td>5196700.0</td>\n",
              "    </tr>\n",
              "    <tr>\n",
              "      <th>2004-08-31</th>\n",
              "      <td>51.343492</td>\n",
              "      <td>1.308977</td>\n",
              "      <td>0.048866</td>\n",
              "      <td>4917800.0</td>\n",
              "    </tr>\n",
              "    <tr>\n",
              "      <th>2004-09-01</th>\n",
              "      <td>50.280210</td>\n",
              "      <td>2.713217</td>\n",
              "      <td>-2.385589</td>\n",
              "      <td>9138200.0</td>\n",
              "    </tr>\n",
              "  </tbody>\n",
              "</table>\n",
              "</div>"
            ],
            "text/plain": [
              "            Adj. Close    HL_PCT  PCT_Change  Adj. Volume\n",
              "Date                                                     \n",
              "2004-08-19   50.322842  3.712563    0.324968   44659000.0\n",
              "2004-08-20   54.322689  0.710922    7.227007   22834300.0\n",
              "2004-08-23   54.869377  3.729433   -1.227880   18256100.0\n",
              "2004-08-24   52.597363  6.417469   -5.726357   15247300.0\n",
              "2004-08-25   53.164113  1.886792    1.183658    9188600.0\n",
              "2004-08-26   54.122070  0.037068    2.820391    7094800.0\n",
              "2004-08-27   53.239345  2.326896   -1.803885    6211700.0\n",
              "2004-08-30   51.162935  3.411430   -3.106003    5196700.0\n",
              "2004-08-31   51.343492  1.308977    0.048866    4917800.0\n",
              "2004-09-01   50.280210  2.713217   -2.385589    9138200.0"
            ]
          },
          "metadata": {
            "tags": []
          },
          "execution_count": 8
        }
      ]
    },
    {
      "cell_type": "code",
      "metadata": {
        "id": "EX1DpBYNhoKe",
        "colab_type": "code",
        "colab": {}
      },
      "source": [
        "# can change depending on the forecast column you want\n",
        "forecast_col = 'Adj. Close'\n",
        "# adjust outlier\n",
        "df.fillna(-99999, inplace = True)"
      ],
      "execution_count": 0,
      "outputs": []
    },
    {
      "cell_type": "code",
      "metadata": {
        "id": "NOXEXl8cjZRe",
        "colab_type": "code",
        "colab": {}
      },
      "source": [
        "from sklearn import preprocessing, svm\n",
        "from sklearn.model_selection import cross_val_score\n",
        "from sklearn import metrics\n",
        "from sklearn.model_selection import ShuffleSplit\n",
        "from sklearn.pipeline import make_pipeline\n",
        "from sklearn.model_selection import cross_validate\n",
        "from sklearn.metrics import recall_score\n",
        "from sklearn.metrics.scorer import make_scorer\n",
        "# train test split\n",
        "from sklearn.model_selection import train_test_split\n",
        "\n",
        "# cross_validation to handle bias and spread the data points\n",
        "from sklearn.linear_model import LinearRegression\n",
        "\n",
        "#now find x and y"
      ],
      "execution_count": 0,
      "outputs": []
    },
    {
      "cell_type": "markdown",
      "metadata": {
        "id": "ZNwsaobrEsxm",
        "colab_type": "text"
      },
      "source": [
        "Forecast for next 1%"
      ]
    },
    {
      "cell_type": "code",
      "metadata": {
        "id": "hxsGxBm5AEP2",
        "colab_type": "code",
        "outputId": "2531e62c-6652-4ebe-f3f9-693cfd7eaa2c",
        "colab": {
          "base_uri": "https://localhost:8080/",
          "height": 36
        }
      },
      "source": [
        "# want to forecast 1% in future\n",
        "forecast_out = int(math.ceil(0.01*len(df)))\n",
        "# attributes which effect next days\n",
        "df['label'] = df[forecast_col].shift(-forecast_out)\n",
        "print(\"Days in advance: \", forecast_out)"
      ],
      "execution_count": 11,
      "outputs": [
        {
          "output_type": "stream",
          "text": [
            "Days in advance:  35\n"
          ],
          "name": "stdout"
        }
      ]
    },
    {
      "cell_type": "code",
      "metadata": {
        "id": "8UwPpg2R9WZZ",
        "colab_type": "code",
        "colab": {}
      },
      "source": [
        "x = np.array(df.drop(['label'],1))\n",
        "x = preprocessing.scale(x)\n",
        "x = x[:-forecast_out]\n",
        "x_lately = x[-forecast_out:]\n",
        "\n",
        "df.dropna(inplace=True)\n",
        "\n",
        "# scaling is together also scale new values but adds processing time\n",
        "# can be skipped if high speed trading is going on\n",
        "y = np.array(df['label'])\n",
        "\n",
        "x_train, x_test, y_train, y_test = train_test_split(x, y, test_size = 0.2)"
      ],
      "execution_count": 0,
      "outputs": []
    },
    {
      "cell_type": "code",
      "metadata": {
        "id": "KA1zBU8j_UM9",
        "colab_type": "code",
        "outputId": "780d56ac-c476-48eb-bde9-4f9fa801a8aa",
        "colab": {
          "base_uri": "https://localhost:8080/",
          "height": 56
        }
      },
      "source": [
        "clf = LinearRegression()\n",
        "clf.fit(x_train, y_train)"
      ],
      "execution_count": 14,
      "outputs": [
        {
          "output_type": "execute_result",
          "data": {
            "text/plain": [
              "LinearRegression(copy_X=True, fit_intercept=True, n_jobs=None, normalize=False)"
            ]
          },
          "metadata": {
            "tags": []
          },
          "execution_count": 14
        }
      ]
    },
    {
      "cell_type": "markdown",
      "metadata": {
        "id": "dItWgZVZTBvQ",
        "colab_type": "text"
      },
      "source": [
        "## Pickling helps in saving model"
      ]
    },
    {
      "cell_type": "code",
      "metadata": {
        "id": "bnjHenTpTKXa",
        "colab_type": "code",
        "colab": {}
      },
      "source": [
        "with open('linearregression.pickle','wb') as f:\n",
        "  pickle.dump(clf,f)\n",
        "\n",
        "pickle_in = open('linearregression.pickle','rb')\n",
        "clf = pickle.load(pickle_in)"
      ],
      "execution_count": 0,
      "outputs": []
    },
    {
      "cell_type": "markdown",
      "metadata": {
        "id": "AXhQXvkDUBaR",
        "colab_type": "text"
      },
      "source": [
        "## File is saved in colab dir\n",
        "/content/linearregression.pickle\n",
        "\n"
      ]
    },
    {
      "cell_type": "code",
      "metadata": {
        "id": "J84Xqe1yTp0Q",
        "colab_type": "code",
        "colab": {
          "base_uri": "https://localhost:8080/",
          "height": 36
        },
        "outputId": "9fb7e4bf-0523-4628-97b6-0c71fbf85f7b"
      },
      "source": [
        "# using the loaded clf model\n",
        "accuracy = clf.score(x_test, y_test)*100\n",
        "print(accuracy)"
      ],
      "execution_count": 16,
      "outputs": [
        {
          "output_type": "stream",
          "text": [
            "97.82668814442461\n"
          ],
          "name": "stdout"
        }
      ]
    },
    {
      "cell_type": "code",
      "metadata": {
        "id": "P4QBPY_iFP0k",
        "colab_type": "code",
        "outputId": "c4c06b0a-cf8b-4eaa-b9ed-88a06906b30b",
        "colab": {
          "base_uri": "https://localhost:8080/",
          "height": 185
        }
      },
      "source": [
        "# sincefor x_lately we have not predicted anything\n",
        "forecast_set = clf.predict(x_lately)\n",
        "print( forecast_set)\n",
        "print(\"Accuracy:\",accuracy)\n",
        "print(\"for next how many days prediction is done: \",forecast_out)"
      ],
      "execution_count": 17,
      "outputs": [
        {
          "output_type": "stream",
          "text": [
            "[1075.3955219  1089.95071196 1103.83420885 1098.367926   1091.89493268\n",
            " 1089.28828923 1087.66490092 1084.61564642 1078.52024847 1074.18477372\n",
            " 1071.84629675 1091.61774747 1109.96907922 1114.22641445 1129.11035403\n",
            " 1133.09039055 1131.62124169 1129.20075687 1130.936672   1149.56227073\n",
            " 1148.6443971  1158.46331848 1155.04861184 1162.84775518 1183.36341182\n",
            " 1195.49127412 1189.79211579 1201.65690861 1207.13137213 1205.40763455\n",
            " 1196.18794053 1201.59215322 1200.38494622 1136.0979021  1083.49960976]\n",
            "Accuracy: 97.82668814442461\n",
            "for next how many days prediction is done:  35\n"
          ],
          "name": "stdout"
        }
      ]
    },
    {
      "cell_type": "code",
      "metadata": {
        "id": "3jEF_3s3FPsO",
        "colab_type": "code",
        "colab": {}
      },
      "source": [
        "import datetime\n",
        "import matplotlib.pyplot as plt\n",
        "from matplotlib import style\n",
        "style.use('ggplot')"
      ],
      "execution_count": 0,
      "outputs": []
    },
    {
      "cell_type": "code",
      "metadata": {
        "id": "Isn8rVZXF7kR",
        "colab_type": "code",
        "outputId": "0aff14a6-a360-4d7c-bcda-9cc32554dac0",
        "colab": {
          "base_uri": "https://localhost:8080/",
          "height": 276
        }
      },
      "source": [
        "df['Forecast'] = np.nan\n",
        "last_date = df.iloc[-1].name\n",
        "last_unix = last_date.timestamp()\n",
        "one_day = 86400\n",
        "next_unix = last_unix + one_day\n",
        "\n",
        "#now populate dataframe with the new dates and forecast values\n",
        "\n",
        "for i in forecast_set:\n",
        "  next_date = datetime.datetime.fromtimestamp(next_unix)\n",
        "  next_unix += one_day\n",
        "  df.loc[next_date] = [np.nan for _ in range(len(df.columns)-1)] + [i]\n",
        "\n",
        "\n",
        "# here date is taken as a index which can be checked using df.head()\n",
        "# df.head()\n",
        "\n",
        "df['Adj. Close'].plot()\n",
        "df['Forecast'].plot()\n",
        "plt.legend(loc=4)\n",
        "plt.xlabel('Date')\n",
        "plt.ylabel('price')\n",
        "plt.show()"
      ],
      "execution_count": 19,
      "outputs": [
        {
          "output_type": "display_data",
          "data": {
            "image/png": "[encoded data removed]",
            "text/plain": [
              "<Figure size 432x288 with 1 Axes>"
            ]
          },
          "metadata": {
            "tags": []
          }
        }
      ]
    },
    {
      "cell_type": "markdown",
      "metadata": {
        "colab_type": "text",
        "id": "Xe9U_ZQWRr7s"
      },
      "source": [
        "PLOTTING THE GRAPH"
      ]
    },
    {
      "cell_type": "code",
      "metadata": {
        "id": "tzUIHPoIKhqT",
        "colab_type": "code",
        "outputId": "8b575ee0-b31e-4d12-d337-804ad226d794",
        "colab": {
          "base_uri": "https://localhost:8080/",
          "height": 292
        }
      },
      "source": [
        "df['Adj. Close'].iloc[-100:df['Forecast'].shape[0]].plot()\n",
        "df['Forecast'].iloc[-100:df['Forecast'].shape[0]].plot()\n",
        "plt.legend(loc=4)\n",
        "plt.xlabel('Date')\n",
        "plt.ylabel('price')\n",
        "plt.show()"
      ],
      "execution_count": 23,
      "outputs": [
        {
          "output_type": "display_data",
          "data": {
            "image/png": "[encoded data removed]",
            "text/plain": [
              "<Figure size 432x288 with 1 Axes>"
            ]
          },
          "metadata": {
            "tags": []
          }
        }
      ]
    },
    {
      "cell_type": "code",
      "metadata": {
        "id": "PTpOl350Ufl5",
        "colab_type": "code",
        "colab": {}
      },
      "source": [
        ""
      ],
      "execution_count": 0,
      "outputs": []
    },
    {
      "cell_type": "code",
      "metadata": {
        "id": "xiNNOf7SUfgr",
        "colab_type": "code",
        "colab": {}
      },
      "source": [
        ""
      ],
      "execution_count": 0,
      "outputs": []
    }
  ]
}